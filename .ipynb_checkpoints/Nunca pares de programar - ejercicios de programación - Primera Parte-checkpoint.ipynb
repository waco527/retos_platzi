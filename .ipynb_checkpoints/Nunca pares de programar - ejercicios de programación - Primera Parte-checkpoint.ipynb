{
 "cells": [
  {
   "cell_type": "markdown",
   "metadata": {},
   "source": [
    "# Retos de programación en cualquier lenguaje - Primer nivel: salida de mensajes\n",
    "\n",
    "## Reto #1 “Hola Mundo”\n",
    "Instrucciones: este es un clásico de clásicos, pero haremos un pequeño cambio. En lugar de solo imprimir un mensaje en pantalla, pedirás al usuario que digite un nombre y mostrarás en pantalla lo siguiente: Hola, [nombre]"
   ]
  },
  {
   "cell_type": "code",
   "execution_count": 85,
   "metadata": {},
   "outputs": [
    {
     "name": "stdout",
     "output_type": "stream",
     "text": [
      "Escriba su nombre \n",
      "rr\n",
      "\n",
      "Hola, rr\n",
      "\n"
     ]
    }
   ],
   "source": [
    "nombre = input(\"Escriba su nombre \\n\")\n",
    "\n",
    "print (f'\\nHola, {nombre}\\n')"
   ]
  },
  {
   "cell_type": "markdown",
   "metadata": {},
   "source": [
    "## Reto #2 “Hola… nombre y apellido:”\n",
    "Instrucciones: Ahora que sabemos incluir nombres, podemos agregar más datos. Intentemos con un apellido para tener algo así: ``Hola, [nombre] [apellido]```"
   ]
  },
  {
   "cell_type": "code",
   "execution_count": 88,
   "metadata": {},
   "outputs": [
    {
     "name": "stdout",
     "output_type": "stream",
     "text": [
      "Escriba su nombre \n",
      "rr\n",
      "\n",
      "Escriba su apellido\n",
      "r\n",
      "\n",
      "Hola, rr r\n",
      "\n"
     ]
    }
   ],
   "source": [
    "nombre = input(\"Escriba su nombre \\n\")\n",
    "apellido = input ('\\nEscriba su apellido\\n')\n",
    "\n",
    "print (f'\\nHola, {nombre} {apellido}\\n')"
   ]
  },
  {
   "cell_type": "markdown",
   "metadata": {},
   "source": [
    "## Reto #3 “Mensaje multilínea”\n",
    "Instrucciones: seguro has visto que en Platzi hay más de 600 cursos ¿puedes mostrar a que categorías corresponden en una sola línea de código?\n",
    "Debe mostrarse así:\n",
    "\n",
    "Platzi cuenta con cursos de:<br>\n",
    "[categoría1]<br>\n",
    "[categoría2]<br>\n",
    "[categoría3]<br>\n",
    "[categoría4]<br>\n",
    "[categoría5]<br>\n",
    "[categoría6]<br>"
   ]
  },
  {
   "cell_type": "code",
   "execution_count": 89,
   "metadata": {
    "scrolled": true
   },
   "outputs": [
    {
     "name": "stdout",
     "output_type": "stream",
     "text": [
      "Platzi cuenta con cursos de: \n",
      "\n",
      "+ Desarrollo e Ingenieria\n",
      "\n",
      "+ Diseño y UX\n",
      "\n",
      "+ Marketing\n",
      "\n",
      "+ Negocios y emprendimiento\n",
      "\n",
      "+ Producción Audiovisual\n",
      "\n",
      "+ Crecimiento Profesional\n",
      "\n"
     ]
    }
   ],
   "source": [
    "platzi_categorias = ['Desarrollo e Ingenieria','Diseño y UX', 'Marketing','Negocios y emprendimiento','Producción Audiovisual','Crecimiento Profesional']\n",
    "\n",
    "print('Platzi cuenta con cursos de: \\n')\n",
    "for categoria in platzi_categorias:\n",
    "  print(f'+ {categoria}\\n')"
   ]
  },
  {
   "cell_type": "markdown",
   "metadata": {},
   "source": [
    "## Reto #4 “Suma de enteros”\n",
    "Instrucciones: otro clásico conocido, donde pedirás al usuario que ingrese 2 números y muestre en pantalla el resultado. Si quieres añadir más dificultad puedes utilizar números con punto decimal y especificar el número de decimales después del punto.\n",
    "Ejemplo: 2.5633 + 5.6883 = 8.25"
   ]
  },
  {
   "cell_type": "code",
   "execution_count": 33,
   "metadata": {},
   "outputs": [
    {
     "name": "stdout",
     "output_type": "stream",
     "text": [
      "Suma de dos números\n",
      "\n",
      "Ingrese el primer numero\n",
      "54\n",
      "Ingrese el segundo numero\n",
      "4.44444\n",
      "¿Con cuantos números decimales desea el resultado?\n",
      "3\n",
      "\t el resultado es: 58.444\n"
     ]
    }
   ],
   "source": [
    "print ('Suma de dos números\\n')\n",
    "num_1 = float(input('Ingrese el primer numero\\n'))\n",
    "num_2 = float(input('Ingrese el segundo numero\\n'))\n",
    "decimales = int(input('¿Con cuantos números decimales desea el resultado?\\n'))\n",
    "\n",
    "suma =round((num_1+num_2),decimales)\n",
    "\n",
    "print (f'\\t el resultado es: {suma}')\n"
   ]
  },
  {
   "cell_type": "markdown",
   "metadata": {},
   "source": [
    "## Reto #5 “Suma y multiplicación”\n",
    "Instrucciones: añadiendo un extra al reto anterior ahora el usuario ingresará 3 números, sumarás los 2 primeros y el resultado será multiplicado por el tercero. Añade las consideraciones del punto decimal del reto anterior.\n",
    "Ejemplo:\n",
    "Datos de entrada:2, 3, 4\n",
    "Resultado:20"
   ]
  },
  {
   "cell_type": "code",
   "execution_count": 34,
   "metadata": {},
   "outputs": [
    {
     "name": "stdout",
     "output_type": "stream",
     "text": [
      "Ingrese el primer numero para la suma\n",
      "214.25\n",
      "Ingrese el segundo numero para la suma\n",
      "12.541\n",
      "Ingrese el tercer numero para la multiplicación\n",
      "3.1586\n",
      "¿Con cuantos números decimales desea el resultado?\n",
      "3\n",
      "\t el resultado es: 716.342\n"
     ]
    }
   ],
   "source": [
    "\n",
    "num_1 = float(input('Ingrese el primer numero para la suma\\n'))\n",
    "num_2 = float(input('Ingrese el segundo numero para la suma\\n'))\n",
    "num_3 = float(input('Ingrese el tercer numero para la multiplicación\\n'))\n",
    "decimales = int(input('¿Con cuantos números decimales desea el resultado?\\n'))\n",
    "\n",
    "resultado =round(((num_1+num_2)*num_3),decimales)\n",
    "\n",
    "print (f'\\t el resultado es: {resultado}')\n"
   ]
  },
  {
   "cell_type": "markdown",
   "metadata": {},
   "source": [
    "## Reto #6 “Resta de pizzas”\n",
    "Instrucciones: llegaste a una fiesta con X cantidad de rebanadas de pizza (indicadas por el usuario), después de un rato se consumió Y cantidad de rebanadas y quedan Z. Fácil ¿cierto?\n",
    "El reto está en que expreses lo que sucede es una forma comprensible para cualquier persona, imprescindible pensar en tus usuarios 😉"
   ]
  },
  {
   "cell_type": "code",
   "execution_count": 41,
   "metadata": {},
   "outputs": [
    {
     "name": "stdout",
     "output_type": "stream",
     "text": [
      "¿Cuantas rebanadas de pizza hay? 5\n",
      "¿Cuantas rebanadas de pizza se han comido hasta ahora? 3\n",
      "\t Quedan 2 rebanadas de pizza\n"
     ]
    }
   ],
   "source": [
    "porcion = int(input('¿Cuantas rebanadas de pizza hay? '))\n",
    "comidas = int(input('¿Cuantas rebanadas de pizza se han comido hasta ahora? '))\n",
    "\n",
    "if comidas > porcion :\n",
    "    print ('No hay suficientes porciones')\n",
    "else :\n",
    "    resto = porcion - comidas\n",
    "\n",
    "    print(f'\\t Quedan {resto} rebanadas de pizza')"
   ]
  },
  {
   "cell_type": "markdown",
   "metadata": {},
   "source": [
    "## Reto #7 “Edad futura y pasada”\n",
    "Instrucciones: pide al usuario que indique su nombre y su edad. Como mensaje de salida le indicarás que edad tuvo el año pasado y cuantos años tendrá el siguiente año.\n",
    "Ejemplo: [nombre] el año pasado tenías X años y el próximo año cumplirás Y años."
   ]
  },
  {
   "cell_type": "code",
   "execution_count": 46,
   "metadata": {},
   "outputs": [
    {
     "name": "stdout",
     "output_type": "stream",
     "text": [
      "Escriba su nombre \n",
      "William\n",
      "\n",
      "¿Qué edad tiene? \n",
      "23\n",
      "\n",
      "Hola, William, el año pasado usted tuvo 22 años y el año próximo tendra 24!\n",
      "\n"
     ]
    }
   ],
   "source": [
    "nombre = input(\"Escriba su nombre \\n\")\n",
    "edad = int(input ('\\n¿Qué edad tiene? \\n'))\n",
    "\n",
    "print (f'\\nHola, {nombre}, el año pasado usted tenia {edad-1} años y el año próximo tendra {edad+1}!\\n')\n",
    "\n"
   ]
  },
  {
   "cell_type": "markdown",
   "metadata": {},
   "source": [
    "## Reto #8 “Divide la cuenta”\n",
    "Instrucciones: vas con tus amigos a tu restaurante favorito y acuerdan dividir la cuenta. Para facilitar las cosa pedirás al usuario que indique el total a pagar, entre cuantas personas se dvidirá la cuenta, porcentaje de propina a incluir, un porcentaje de impuestos, total a pagar incluyendo propina más impuestos y el total a pagar por cada persona."
   ]
  },
  {
   "cell_type": "code",
   "execution_count": 66,
   "metadata": {},
   "outputs": [
    {
     "name": "stdout",
     "output_type": "stream",
     "text": [
      "Este es un programa para dividir la cuenta \n",
      "¿Cual es el valor de la cuenta? \n",
      "47582\n",
      "¿Entre cuantas personas se va a divir la cuenta? \n",
      "5\n",
      "¿Qué porcentaje de propina desea incluir? \n",
      "5\n",
      "¿ya viene incluido impuesto al valor agregado en la cuenta? Si/No \n",
      "si\n",
      "\n",
      "\tEl valor total de la cuenta es 49961.1\n",
      "\tEl valor a pagar por persona es 9992.22 incluida una propina de 475.82\n"
     ]
    }
   ],
   "source": [
    "\n",
    "\n",
    "def divide () :\n",
    "    costo = float(input('¿Cual es el valor de la cuenta? \\n'))\n",
    "    personas = int(input('¿Entre cuantas personas se va a divir la cuenta? \\n'))\n",
    "    propina = float (input('¿Qué porcentaje de propina desea incluir? \\n'))\n",
    "    imp = input('¿ya viene incluido impuesto al valor agregado en la cuenta? Si/No \\n').lower()\n",
    "    if imp == 'no' :\n",
    "        impuesto = float (input('¿Cual es el procentaje de impuesto al valor agregado? \\n'))\n",
    "        costo = costo + costo*impuesto/100\n",
    "        \n",
    "    else :\n",
    "        pass\n",
    "    \n",
    "    total_persona = (costo + propina*costo/100)/personas\n",
    "    \n",
    "    print(f'\\n\\tEl valor total de la cuenta es {costo+propina*costo/100}\\n\\tEl valor a pagar por persona es {total_persona} incluida una propina de {propina*costo/100/personas}')\n",
    "print('Este es un programa para dividir la cuenta ')\n",
    "    \n",
    "divide()"
   ]
  },
  {
   "cell_type": "markdown",
   "metadata": {},
   "source": [
    "## Reto #9 “Calculando días”\n",
    "Instrucciones: escribe un programa al que le indiques una cantidad de días y como resultado deberá mostrar cuantas horas, minutos y segundos hay en dicha cantidad de días."
   ]
  },
  {
   "cell_type": "code",
   "execution_count": 71,
   "metadata": {},
   "outputs": [
    {
     "name": "stdout",
     "output_type": "stream",
     "text": [
      "¿Qué número de dias quiere que se calculen en horas, minutos y segundos? \n",
      "365\n",
      "En 365 dias, hay 8760 horas, 525600 minutos o 31536000 segundos\n"
     ]
    }
   ],
   "source": [
    "dias = int(input('¿Qué número de dias quiere que se calculen en horas, minutos y segundos? \\n'))\n",
    "\n",
    "horas = dias*24 \n",
    "minutos = round(horas*60, 2)\n",
    "segundos = round(minutos*60, 2)\n",
    "\n",
    "print(f'En {dias} dias, hay {horas} horas, {minutos} minutos o {segundos} segundos')"
   ]
  },
  {
   "cell_type": "markdown",
   "metadata": {},
   "source": [
    "## Reto #10 “Conversor de millas”\n",
    "Instrucciones: hay 1.609344 km en una milla (mi). Escribe un programa en el que el usuario indique una cantidad de millas y muestre en pantalla el resultado convertido a kilómetros."
   ]
  },
  {
   "cell_type": "code",
   "execution_count": 77,
   "metadata": {},
   "outputs": [
    {
     "name": "stdout",
     "output_type": "stream",
     "text": [
      "Conversor de millas\n",
      "¿Cuantas millas quiere transformar a kilometros? 55\n",
      "\n",
      "55 millas equivalen a 88.51 kilómetros\n",
      "\n"
     ]
    }
   ],
   "source": [
    "millas = int(input('Conversor de millas\\n¿Cuantas millas quiere transformar a kilometros? '))\n",
    "\n",
    "km = round(millas*1.609344, 2)\n",
    "\n",
    "print( f'\\n{millas} millas equivalen a {km} kilómetros\\n')"
   ]
  },
  {
   "cell_type": "markdown",
   "metadata": {},
   "source": [
    "## Reto #11 “Cuantas veces un número en otro”\n",
    "Instrucciones: pide al usuario ingresar un número mayor a 1000 y otro menor a 100. Indica de una forma sencilla de entender al usuario cuantas veces cabe el número menor a 100 en el número mayor a 1000"
   ]
  },
  {
   "cell_type": "code",
   "execution_count": null,
   "metadata": {},
   "outputs": [],
   "source": [
    "print('Cuantas veces cabe un número en otro\\n')\n",
    "mayor = int(input('Introduce un número mayor a 1000 '))\n",
    "menor = int(input('Introduce un número menor a 100 '))\n",
    "veces = int(mayor/menor)\n",
    "print(f'El número {menor} cabe exactamente {veces} veces en el número {mayor} y sobran {mayor%menor}')\n"
   ]
  },
  {
   "cell_type": "code",
   "execution_count": null,
   "metadata": {},
   "outputs": [],
   "source": []
  }
 ],
 "metadata": {
  "kernelspec": {
   "display_name": "Python 3",
   "language": "python",
   "name": "python3"
  },
  "language_info": {
   "codemirror_mode": {
    "name": "ipython",
    "version": 3
   },
   "file_extension": ".py",
   "mimetype": "text/x-python",
   "name": "python",
   "nbconvert_exporter": "python",
   "pygments_lexer": "ipython3",
   "version": "3.7.7"
  }
 },
 "nbformat": 4,
 "nbformat_minor": 4
}
