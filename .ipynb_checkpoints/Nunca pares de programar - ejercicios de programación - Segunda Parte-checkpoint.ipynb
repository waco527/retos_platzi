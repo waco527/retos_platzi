{
 "cells": [
  {
   "cell_type": "markdown",
   "metadata": {},
   "source": [
    "# Retos de programación para cualquier lenguaje - Segundo nivel: condicionales\n",
    "\n",
    "\n",
    "Recuerde que para ejecutar una celda hay que oprimir shift +\n",
    "\n",
    "## Reto #1 - Número mayor y menor\n",
    "Escribe un programa que pida al usuario 2 números, mostrando como salida cuál es el número mayor y la diferencia de uno respecto al otro. En caso de que los números sean iguales, mostrarlo también en pantalla."
   ]
  },
  {
   "cell_type": "code",
   "execution_count": 1,
   "metadata": {},
   "outputs": [],
   "source": [
    "# Esta funcion debe ejecutarse antes que cualquier otra celda\n",
    "\n",
    "def intentar (funcion):\n",
    "    \"\"\"\n",
    "    La funcion intentar permite repetir la rutina de la funcion donde esta alojada\n",
    "    Recibe como parametro el nombre de la funcion que se quiere repetir\n",
    "    Muestra un mensaje 'Quiere intentarlo de nuevo? Si/No' el cual permite volver a correr\n",
    "    la funcion.\n",
    "    La funcion intentar se debe invocar dentro de la funcion especifica al final de esta\n",
    "    \n",
    "    ej:\n",
    "    \n",
    "    def funcion_X():\n",
    "        \n",
    "        ...contenido...\n",
    "        \n",
    "        intentar(funcion_X)\n",
    "        \n",
    "        \n",
    "    \"\"\"\n",
    "    otra_vez = (input('\\n¿Quiere intentarlo de nuevo? Si/No ')).lower()\n",
    "    if otra_vez == 'si' or otra_vez.lower() == 's' :\n",
    "        funcion()\n",
    "    elif otra_vez == 'no' or otra_vez.lower() == 'n' :\n",
    "        print('\\nGracias por participar')\n",
    "    else :\n",
    "        intentar(funcion)\n"
   ]
  },
  {
   "cell_type": "code",
   "execution_count": null,
   "metadata": {},
   "outputs": [],
   "source": [
    "\n",
    "def mayor_o_menor () :\n",
    "    try:\n",
    "        num_1 = int(input(\"Por favor escriba un número \\n\"))\n",
    "        num_2 = int(input(\"Por favor escriba otro número \\n\"))\n",
    "    except ValueError :    \n",
    "        print(f'\\nVerifique que el número ingresado sea valido')\n",
    "    else :\n",
    "        if num_1 > num_2 :\n",
    "            print (f'\\nEl número {num_1} es mayor que el número {num_2}')\n",
    "        elif num_2 > num_1 :\n",
    "            print (f'\\nEl número {num_2} es mayor que el número {num_1}')\n",
    "        elif num_2 == num_1:\n",
    "            print (f'\\nLos números {num_1} y {num_2} son iguales')\n",
    "            \n",
    "    intentar(mayor_o_menor)\n",
    "    \n",
    "print('¿Número mayor o menor?\\n')\n",
    "\n",
    "mayor_o_menor()\n"
   ]
  },
  {
   "cell_type": "markdown",
   "metadata": {},
   "source": [
    "## Reto #2 - En el rango, por favor.\n",
    "Pide al usuario que indique 2 números: uno que servirá como límite y otro para comparar. Si el segundo número es menor al primero, mostrarás un mensaje diciendo “El número ‘x’ se encuentra en el rango, gracias” y en caso contrario dirá “El número ‘x’ excede el límite permitido”."
   ]
  },
  {
   "cell_type": "code",
   "execution_count": 2,
   "metadata": {},
   "outputs": [
    {
     "name": "stdout",
     "output_type": "stream",
     "text": [
      "Por favor escriba el número que servirá como limite\n",
      "44\n",
      "Por favor escriba el número a comparar\n",
      "33\n",
      "El número 33 se encuentra en el rango, gracias\n",
      "\n",
      "¿Quiere intentarlo de nuevo? Si/No sg\n",
      "\n",
      "¿Quiere intentarlo de nuevo? Si/No n\n",
      "\n",
      "Gracias por participar\n"
     ]
    }
   ],
   "source": [
    "\n",
    "def dos_numeros () :\n",
    "    try:\n",
    "        num_1 = int(input(\"Por favor escriba el número que servirá como limite\\n\"))\n",
    "        num_2 = int(input(\"Por favor escriba el número a comparar\\n\"))\n",
    "    except ValueError :    \n",
    "        print(f'\\nVerifique que el número ingresado sea valido')\n",
    "    else :\n",
    "        if num_1 < num_2 :\n",
    "            print (f'\\nEl número {num_2} excede el límite permitido.')\n",
    "        elif num_2 <= num_1 :\n",
    "            print (f'El número {num_2} se encuentra en el rango, gracias')\n",
    "        \n",
    "    intentar(dos_numeros)\n",
    "dos_numeros()"
   ]
  },
  {
   "cell_type": "markdown",
   "metadata": {},
   "source": [
    "## Reto #3 - Rangos cambiantes.\n",
    "Nuevamente pide a tu usuario que indique 3 números: un límite superior, un límite inferior y uno de comparación. Si el número de comparación se encuentra entre los 2 primeros, comunicarlo en pantalla. En caso estar por debajo del límite inferior o por arriba del límite superior, también mostrarlo en pantalla."
   ]
  },
  {
   "cell_type": "code",
   "execution_count": 3,
   "metadata": {},
   "outputs": [
    {
     "name": "stdout",
     "output_type": "stream",
     "text": [
      "Por favor escriba el número que servirá como limite inferior\n",
      "4\n",
      "Por favor escriba el número que servirá como limite superior\n",
      "3\n",
      "Por favor escriba el número a comparar\n",
      "4\n",
      "el limite inferior debe ser menor que el limite superior\n",
      "\n",
      "¿Quiere intentarlo de nuevo? Si/No s\n",
      "Por favor escriba el número que servirá como limite inferior\n",
      "1\n",
      "Por favor escriba el número que servirá como limite superior\n",
      "6\n",
      "Por favor escriba el número a comparar\n",
      "4\n",
      "\n",
      "El número 4 se encuentra en el rango, gracias.\n",
      "\n",
      "¿Quiere intentarlo de nuevo? Si/No n\n",
      "\n",
      "Gracias por participar\n"
     ]
    }
   ],
   "source": [
    "def tres_numeros () :\n",
    "    try:\n",
    "        num_1 = int(input(\"Por favor escriba el número que servirá como limite inferior\\n\"))\n",
    "        num_3 = int(input(\"Por favor escriba el número que servirá como limite superior\\n\"))\n",
    "            \n",
    "        \n",
    "        num_2 = int(input(\"Por favor escriba el número a comparar\\n\"))\n",
    "    except ValueError :    \n",
    "        print(f'\\nVerifique que el número ingresado sea valido')\n",
    "   \n",
    "    else :\n",
    "        \n",
    "        if num_1 > num_3 :\n",
    "            print (f'el limite inferior debe ser menor que el limite superior')\n",
    "            \n",
    "        elif abs(num_1 -num_3) <= 1 :\n",
    "            print(f'El intervalo no es suficientemente grande')\n",
    "        \n",
    "        elif num_2 < num_3 and num_2 > num_1 :\n",
    "            print (f'\\nEl número {num_2} se encuentra en el rango, gracias.')\n",
    "        elif num_2 > num_3  :\n",
    "            print (f'El número {num_2} está por encima del límite permitido, gracias')\n",
    "        elif num_2 < num_1 :\n",
    "             print (f'El número {num_2} está por debajo del límite permitido, gracias')\n",
    "        \n",
    "    intentar(tres_numeros)\n",
    "tres_numeros()"
   ]
  },
  {
   "cell_type": "markdown",
   "metadata": {},
   "source": [
    "## Reto #4 - “I like turtles”\n",
    "Escribe un programa que pida al usuario ingrese su animal favorito, si coloca ‘Tortuga’, ‘tortuga’, ‘TORTUGA’ o cualquier otra variante de la palabra entonces mostrar en pantalla “También me gustan las tortugas”. En caso contrario mostrar el mensaje “Ese animal es genial, pero prefiero las tortugas”."
   ]
  },
  {
   "cell_type": "code",
   "execution_count": 7,
   "metadata": {},
   "outputs": [
    {
     "name": "stdout",
     "output_type": "stream",
     "text": [
      "Por favor, cual es su animal favorito? las tortugitas\n",
      "\n",
      "Wow, también me gustan las tortugas!\n",
      "\n",
      "\n",
      "¿Quiere intentarlo de nuevo? Si/No s\n",
      "Por favor, cual es su animal favorito? las tortughamsters\n",
      "\n",
      "Wow, también me gustan las tortugas!\n",
      "\n",
      "\n",
      "¿Quiere intentarlo de nuevo? Si/No n\n",
      "\n",
      "Gracias por participar\n"
     ]
    }
   ],
   "source": [
    "def turtles():\n",
    "    animal = (input('Por favor, cual es su animal favorito? ')).lower()\n",
    "\n",
    "    if 'tortug' in animal:\n",
    "        print('\\nWow, también me gustan las tortugas!\\n')\n",
    "    else :\n",
    "        print('\\nEse animal es genial, pero prefiero las tortugas\\n')\n",
    "    intentar(turtles)\n",
    "turtles()"
   ]
  },
  {
   "cell_type": "markdown",
   "metadata": {},
   "source": [
    "## Reto #5 - ¿Cómo está el clima?\n",
    "Crea un programa que pregunte al usuario si está lloviendo, en caso de responder “sí” pregunta si está haciendo mucho viento y si responde “sí” nuevamente muestra un mensaje indicando que hace mucho viento para salir con una sombrilla. En caso contrario, anima al usuario a que lleve una sombrilla. Para el caso de responder “no” en la primer pregunta, entonces solo desea un bonito día.\n",
    "Considera que las respuestas pueden pasarse a minúsculas para evitar posibles errores."
   ]
  },
  {
   "cell_type": "code",
   "execution_count": null,
   "metadata": {},
   "outputs": [],
   "source": [
    "lluvia = (input('Hola, ¿esta lloviendo en estos momentos? Si/No ')).lower()\n",
    "\n",
    "if lluvia == 'si' or lluvia == 's' :\n",
    "    viento = (input('¿Hay mucho viento en estos momentos? Si/No ')).lower()\n",
    "    \n",
    "    if viento == 'si' or viento == 's' :\n",
    "        print ('hace mucho viento para salir con una sombrilla!')\n",
    "    elif viento == 'no' or viento == 'n' :\n",
    "         print ('Deberias llevar una sombrilla!')\n",
    "\n",
    "elif lluvia == 'no' or lluvia == 'n' :\n",
    "    print ('Que bien! Que tengas un bonito día!')\n",
    "\n",
    "        \n",
    "    "
   ]
  },
  {
   "cell_type": "markdown",
   "metadata": {},
   "source": [
    "## Reto #6 - Edad permitida\n",
    "Pide al usuario que ingrese su edad y mostrarás un mensaje correspondiente si esta coincide con las siguientes condiciones:\n",
    "Más de 30 años: Nunca es tarde para aprender ¿Qué curso tomaremos?\n",
    "Entre 29 y 18 años: Es un momento excelente para impulsar tu carrera.\n",
    "Menos de 18 años: ¿Sabes hacia dónde dirigir tu futuro? Seguro puedo ayudarte."
   ]
  },
  {
   "cell_type": "code",
   "execution_count": 8,
   "metadata": {},
   "outputs": [
    {
     "name": "stdout",
     "output_type": "stream",
     "text": [
      "\n",
      "Por favor, ingrese su edad: 39\n",
      "\n",
      "Nunca es tarde para aprender ¿Qué curso tomaremos?\n",
      "\n",
      "\n",
      "¿Quiere intentarlo de nuevo? Si/No s\n",
      "\n",
      "Por favor, ingrese su edad: 12\n",
      "\n",
      "¿Sabes hacia dónde dirigir tu futuro? Seguro puedo ayudarte.\n",
      "\n",
      "\n",
      "¿Quiere intentarlo de nuevo? Si/No s\n",
      "\n",
      "Por favor, ingrese su edad: 32\n",
      "\n",
      "Nunca es tarde para aprender ¿Qué curso tomaremos?\n",
      "\n",
      "\n",
      "¿Quiere intentarlo de nuevo? Si/No s\n",
      "\n",
      "Por favor, ingrese su edad: 25\n",
      "\n",
      "Es un momento excelente para impulsar tu carrera.\n",
      "\n",
      "\n",
      "¿Quiere intentarlo de nuevo? Si/No n\n",
      "\n",
      "Gracias por participar\n"
     ]
    }
   ],
   "source": [
    "def edad_aprender ():\n",
    "    \n",
    "    try:\n",
    "        edad = int(input('\\nPor favor, ingrese su edad: '))\n",
    "        if edad < 0 :\n",
    "            print ('\\nNo hay edades con valor negativo\\n')\n",
    "        elif edad > 30 :\n",
    "            print('\\nNunca es tarde para aprender ¿Qué curso tomaremos?\\n')\n",
    "        elif edad < 18 :\n",
    "            print('\\n¿Sabes hacia dónde dirigir tu futuro? Seguro puedo ayudarte.\\n')\n",
    "        elif edad > 18 and edad < 30 :\n",
    "            print('\\nEs un momento excelente para impulsar tu carrera.\\n')\n",
    "        \n",
    "    except ValueError :\n",
    "        print ('\\nIngrese un número valido\\n')\n",
    "        \n",
    "    intentar(edad_aprender)\n",
    "edad_aprender()\n",
    "    \n",
    "    \n"
   ]
  },
  {
   "cell_type": "markdown",
   "metadata": {},
   "source": [
    "## Reto #7 - Mensajes opcionales\n",
    "Crearás un un script para el que el usuario indicará un número entre 1 y 6. Como respuesta se le brindará un mensaje según el número leido:\n",
    "1 - “Hoy aprenderemos sobre prorgamación”\n",
    "2 - “¿Qué tal tomar un curso de marketing digital?\n",
    "3 - “Hoy es un gran día para comenzar a aprender de diseño”\n",
    "4 - ¿Y si aprendemos algo de negocios online?\n",
    "5 - “Veamos un par de clases sobre producción audiovisual”\n",
    "6 - “Tal vez sea bueno desarrollar una habilidad blanda en Platzi”\n",
    "En caso indicar un número distinto, pedir al usuario que ingrese uno en el rango válido."
   ]
  },
  {
   "cell_type": "code",
   "execution_count": 9,
   "metadata": {},
   "outputs": [
    {
     "name": "stdout",
     "output_type": "stream",
     "text": [
      "\n",
      "Por favor, ingrese un número entre 1 y 6: 4\n",
      "\n",
      "¿Y si aprendemos algo de negocios online?\n",
      "\n",
      "\n",
      "¿Quiere intentarlo de nuevo? Si/No s\n",
      "\n",
      "Por favor, ingrese un número entre 1 y 6: 2\n",
      "\n",
      "¿Qué tal tomar un curso de marketing digital? \n",
      "\n",
      "\n",
      "¿Quiere intentarlo de nuevo? Si/No s\n",
      "\n",
      "Por favor, ingrese un número entre 1 y 6: 4\n",
      "\n",
      "¿Y si aprendemos algo de negocios online?\n",
      "\n",
      "\n",
      "¿Quiere intentarlo de nuevo? Si/No n\n",
      "\n",
      "Gracias por participar\n"
     ]
    }
   ],
   "source": [
    "# Reto 7 usando condicionales\n",
    "\n",
    "def indicar_numero ():\n",
    "    \n",
    "    try:\n",
    "        edad = int(input('\\nPor favor, ingrese un número entre 1 y 6: '))\n",
    "        if edad < 1 and edad > 7:\n",
    "            print ('\\nNo ingresó un número entre 1 y 6\\n')\n",
    "        elif edad == 1 :\n",
    "            print('\\nHoy aprenderemos sobre progamación\\n')\n",
    "        elif edad == 2 :\n",
    "            print('\\n¿Qué tal tomar un curso de marketing digital? \\n')\n",
    "        elif edad == 3 :\n",
    "            print('\\nHoy es un gran día para comenzar a aprender de diseño\\n')\n",
    "        elif edad == 4 :\n",
    "            print('\\n¿Y si aprendemos algo de negocios online?\\n')\n",
    "        elif edad == 5 :\n",
    "            print('\\nVeamos un par de clases sobre producción audiovisual\\n')\n",
    "        elif edad == 6 :\n",
    "            print('\\nTal vez sea bueno desarrollar una habilidad blanda en Platzi\\n')\n",
    "        \n",
    "    except ValueError :\n",
    "        print ('\\nIngrese un número valido\\n')\n",
    "        \n",
    "    intentar(indicar_numero)\n",
    "    \n",
    "indicar_numero()"
   ]
  },
  {
   "cell_type": "code",
   "execution_count": 10,
   "metadata": {},
   "outputs": [
    {
     "name": "stdout",
     "output_type": "stream",
     "text": [
      "\n",
      "Por favor, ingrese un número entre 1 y 6: 4\n",
      "\n",
      "¿Y si aprendemos algo de negocios online?\n",
      "\n",
      "\n",
      "¿Quiere intentarlo de nuevo? Si/No s\n",
      "\n",
      "Por favor, ingrese un número entre 1 y 6: 1\n",
      "\n",
      "Hoy aprenderemos sobre progamación\n",
      "\n",
      "\n",
      "¿Quiere intentarlo de nuevo? Si/No 0\n",
      "\n",
      "¿Quiere intentarlo de nuevo? Si/No 8\n",
      "\n",
      "¿Quiere intentarlo de nuevo? Si/No -1\n",
      "\n",
      "¿Quiere intentarlo de nuevo? Si/No s\n",
      "\n",
      "Por favor, ingrese un número entre 1 y 6: 8\n",
      "\n",
      "No ingresó un número entre 1 y 6\n",
      " \n",
      "\n",
      "¿Quiere intentarlo de nuevo? Si/No s\n",
      "\n",
      "Por favor, ingrese un número entre 1 y 6: s\n",
      "\n",
      "Ingrese un número valido\n",
      "\n",
      "\n",
      "¿Quiere intentarlo de nuevo? Si/No n\n",
      "\n",
      "Gracias por participar\n"
     ]
    }
   ],
   "source": [
    "# Reto 7 usando diccionarios\n",
    "\n",
    "opciones ={1:'\\nHoy aprenderemos sobre progamación\\n',\n",
    "           2:'\\n¿Qué tal tomar un curso de marketing digital? \\n',\n",
    "           3:'\\nHoy es un gran día para comenzar a aprender de diseño\\n',\n",
    "           4:'\\n¿Y si aprendemos algo de negocios online?\\n',\n",
    "           5:'\\nVeamos un par de clases sobre producción audiovisual\\n',\n",
    "           6:'\\nTal vez sea bueno desarrollar una habilidad blanda en Platzi\\n'         \n",
    "          }\n",
    "\n",
    "def indicar_numero ():\n",
    "\n",
    "    try:\n",
    "        edad = int(input('\\nPor favor, ingrese un número entre 1 y 6: '))\n",
    "        \n",
    "        respuesta =(opciones.get(edad)) \n",
    "        if respuesta == None :\n",
    "            print ('\\nNo ingresó un número entre 1 y 6\\n ')\n",
    "        else :\n",
    "            print(respuesta)\n",
    "        \n",
    "    except ValueError :\n",
    "        print ('\\nIngrese un número valido\\n')\n",
    "    intentar(indicar_numero)\n",
    "\n",
    "\n",
    "indicar_numero()"
   ]
  },
  {
   "cell_type": "code",
   "execution_count": null,
   "metadata": {},
   "outputs": [],
   "source": []
  }
 ],
 "metadata": {
  "kernelspec": {
   "display_name": "Python 3",
   "language": "python",
   "name": "python3"
  },
  "language_info": {
   "codemirror_mode": {
    "name": "ipython",
    "version": 3
   },
   "file_extension": ".py",
   "mimetype": "text/x-python",
   "name": "python",
   "nbconvert_exporter": "python",
   "pygments_lexer": "ipython3",
   "version": "3.7.7"
  }
 },
 "nbformat": 4,
 "nbformat_minor": 4
}
