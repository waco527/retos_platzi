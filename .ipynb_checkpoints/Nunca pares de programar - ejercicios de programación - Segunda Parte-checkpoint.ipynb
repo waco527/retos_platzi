{
 "cells": [
  {
   "cell_type": "markdown",
   "metadata": {},
   "source": [
    "# Retos de programación para cualquier lenguaje - Segundo nivel: condicionales\n",
    "\n",
    "\n",
    "Recuerde que para ejecutar una celda hay que oprimir shift +\n",
    "\n",
    "## Reto #1 - Número mayor y menor\n",
    "Escribe un programa que pida al usuario 2 números, mostrando como salida cuál es el número mayor y la diferencia de uno respecto al otro. En caso de que los números sean iguales, mostrarlo también en pantalla."
   ]
  },
  {
   "cell_type": "code",
   "execution_count": 57,
   "metadata": {},
   "outputs": [
    {
     "name": "stdout",
     "output_type": "stream",
     "text": [
      "¿Número mayor o menor?\n",
      "\n",
      "Por favor escriba un número \n",
      "3\n",
      "Por favor escriba otro número \n",
      "4\n",
      "\n",
      "El número 4 es mayor que el número 3\n",
      "\n",
      "¿Quiere intentarlo de nuevo? Si/No s\n",
      "Por favor escriba un número \n",
      "3\n",
      "Por favor escriba otro número \n",
      "3\n",
      "\n",
      "Los números 3 y 3 son iguales\n",
      "\n",
      "¿Quiere intentarlo de nuevo? Si/No n\n",
      "\n",
      "Gracias por participar\n"
     ]
    }
   ],
   "source": [
    "def intentar ():\n",
    "    otra_vez = (input('\\n¿Quiere intentarlo de nuevo? Si/No ')).lower()\n",
    "    if otra_vez == 'si' or otra_vez.lower() == 's' :\n",
    "        mayor_o_menor()\n",
    "    elif otra_vez == 'no' or otra_vez.lower() == 'n' :\n",
    "        print('\\nGracias por participar')\n",
    "    else :\n",
    "        intentar()\n",
    "\n",
    "def mayor_o_menor () :\n",
    "    try:\n",
    "        num_1 = int(input(\"Por favor escriba un número \\n\"))\n",
    "        num_2 = int(input(\"Por favor escriba otro número \\n\"))\n",
    "    except ValueError :    \n",
    "        print(f'\\nVerifique que el número ingresado sea valido')\n",
    "    else :\n",
    "        if num_1 > num_2 :\n",
    "            print (f'\\nEl número {num_1} es mayor que el número {num_2}')\n",
    "        elif num_2 > num_1 :\n",
    "            print (f'\\nEl número {num_2} es mayor que el número {num_1}')\n",
    "        elif num_2 == num_1:\n",
    "            print (f'\\nLos números {num_1} y {num_2} son iguales')\n",
    "            \n",
    "    intentar()\n",
    "    \n",
    "print('¿Número mayor o menor?\\n')\n",
    "\n",
    "mayor_o_menor()\n"
   ]
  },
  {
   "cell_type": "markdown",
   "metadata": {},
   "source": [
    "## Reto #2 - En el rango, por favor.\n",
    "Pide al usuario que indique 2 números: uno que servirá como límite y otro para comparar. Si el segundo número es menor al primero, mostrarás un mensaje diciendo “El número ‘x’ se encuentra en el rango, gracias” y en caso contrario dirá “El número ‘x’ excede el límite permitido”."
   ]
  },
  {
   "cell_type": "code",
   "execution_count": 61,
   "metadata": {},
   "outputs": [
    {
     "name": "stdout",
     "output_type": "stream",
     "text": [
      "Por favor escriba el número que servirá como limite\n",
      "4\n",
      "Por favor escriba el número a comparar\n",
      "4\n",
      "El número 4 se encuentra en el rango, gracias\n",
      "\n",
      "¿Quiere intentarlo de nuevo? Si/No s\n",
      "Por favor escriba el número que servirá como limite\n",
      "4\n",
      "Por favor escriba el número a comparar\n",
      "5\n",
      "\n",
      "El número 5 excede el límite permitido.\n",
      "\n",
      "¿Quiere intentarlo de nuevo? Si/No s\n",
      "Por favor escriba el número que servirá como limite\n",
      "5\n",
      "Por favor escriba el número a comparar\n",
      "4\n",
      "El número 4 se encuentra en el rango, gracias\n",
      "\n",
      "¿Quiere intentarlo de nuevo? Si/No s\n",
      "Por favor escriba el número que servirá como limite\n",
      "4\n",
      "Por favor escriba el número a comparar\n",
      "g\n",
      "\n",
      "Verifique que el número ingresado sea valido\n",
      "\n",
      "¿Quiere intentarlo de nuevo? Si/No f\n",
      "\n",
      "¿Quiere intentarlo de nuevo? Si/No n\n",
      "\n",
      "Gracias por participar\n"
     ]
    }
   ],
   "source": [
    "\n",
    "def intentar ():\n",
    "    otra_vez = (input('\\n¿Quiere intentarlo de nuevo? Si/No ')).lower()\n",
    "    if otra_vez == 'si' or otra_vez.lower() == 's' :\n",
    "        dos_numeros()\n",
    "    elif otra_vez == 'no' or otra_vez.lower() == 'n' :\n",
    "        print('\\nGracias por participar')\n",
    "    else :\n",
    "        intentar()\n",
    "\n",
    "\n",
    "\n",
    "def dos_numeros () :\n",
    "    try:\n",
    "        num_1 = int(input(\"Por favor escriba el número que servirá como limite\\n\"))\n",
    "        num_2 = int(input(\"Por favor escriba el número a comparar\\n\"))\n",
    "    except ValueError :    \n",
    "        print(f'\\nVerifique que el número ingresado sea valido')\n",
    "    else :\n",
    "        if num_1 < num_2 :\n",
    "            print (f'\\nEl número {num_2} excede el límite permitido.')\n",
    "        elif num_2 <= num_1 :\n",
    "            print (f'El número {num_2} se encuentra en el rango, gracias')\n",
    "        \n",
    "    intentar()\n",
    "dos_numeros()"
   ]
  },
  {
   "cell_type": "markdown",
   "metadata": {},
   "source": [
    "## Reto #3 - Rangos cambiantes.\n",
    "Nuevamente pide a tu usuario que indique 3 números: un límite superior, un límite inferior y uno de comparación. Si el número de comparación se encuentra entre los 2 primeros, comunicarlo en pantalla. En caso estar por debajo del límite inferior o por arriba del límite superior, también mostrarlo en pantalla."
   ]
  },
  {
   "cell_type": "code",
   "execution_count": 76,
   "metadata": {},
   "outputs": [
    {
     "name": "stdout",
     "output_type": "stream",
     "text": [
      "Por favor escriba el número que servirá como limite inferior\n",
      "3\n",
      "Por favor escriba el número que servirá como limite superior\n",
      "4\n",
      "Por favor escriba el número a comparar\n",
      "5\n",
      "El intervalo no es suficientemente grande\n",
      "\n",
      "¿Quiere intentarlo de nuevo? Si/No s\n",
      "Por favor escriba el número que servirá como limite inferior\n",
      "3\n",
      "Por favor escriba el número que servirá como limite superior\n",
      "1\n",
      "Por favor escriba el número a comparar\n",
      "2\n",
      "el limite inferior debe ser menor que el limite superior\n",
      "\n",
      "¿Quiere intentarlo de nuevo? Si/No s\n",
      "Por favor escriba el número que servirá como limite inferior\n",
      "-1\n",
      "Por favor escriba el número que servirá como limite superior\n",
      "44\n",
      "Por favor escriba el número a comparar\n",
      "-33\n",
      "El número -33 está por debajo del límite permitido, gracias\n",
      "\n",
      "¿Quiere intentarlo de nuevo? Si/No n\n",
      "\n",
      "Gracias por participar\n"
     ]
    }
   ],
   "source": [
    "def intentar ():\n",
    "    otra_vez = (input('\\n¿Quiere intentarlo de nuevo? Si/No ')).lower()\n",
    "    if otra_vez == 'si' or otra_vez.lower() == 's' :\n",
    "        tres_numeros()\n",
    "    elif otra_vez == 'no' or otra_vez.lower() == 'n' :\n",
    "        print('\\nGracias por participar')\n",
    "    else :\n",
    "        intentar()\n",
    "\n",
    "def tres_numeros () :\n",
    "    try:\n",
    "        num_1 = int(input(\"Por favor escriba el número que servirá como limite inferior\\n\"))\n",
    "        num_3 = int(input(\"Por favor escriba el número que servirá como limite superior\\n\"))\n",
    "            \n",
    "        \n",
    "        num_2 = int(input(\"Por favor escriba el número a comparar\\n\"))\n",
    "    except ValueError :    \n",
    "        print(f'\\nVerifique que el número ingresado sea valido')\n",
    "   \n",
    "    else :\n",
    "        \n",
    "        if num_1 > num_3 :\n",
    "            print (f'el limite inferior debe ser menor que el limite superior')\n",
    "            \n",
    "        elif abs(num_1 -num_3) <= 1 :\n",
    "            print(f'El intervalo no es suficientemente grande')\n",
    "        \n",
    "        elif num_2 < num_3 and num_2 > num_1 :\n",
    "            print (f'\\nEl número {num_2} se encuentra en el rango, gracias.')\n",
    "        elif num_2 > num_3  :\n",
    "            print (f'El número {num_2} está por encima del límite permitido, gracias')\n",
    "        elif num_2 < num_1 :\n",
    "             print (f'El número {num_2} está por debajo del límite permitido, gracias')\n",
    "        \n",
    "    intentar()\n",
    "tres_numeros()"
   ]
  },
  {
   "cell_type": "markdown",
   "metadata": {},
   "source": [
    "## Reto #4 - “I like turtles”\n",
    "Escribe un programa que pida al usuario ingrese su animal favorito, si coloca ‘Tortuga’, ‘tortuga’, ‘TORTUGA’ o cualquier otra variante de la palabra entonces mostrar en pantalla “También me gustan las tortugas”. En caso contrario mostrar el mensaje “Ese animal es genial, pero prefiero las tortugas”."
   ]
  },
  {
   "cell_type": "code",
   "execution_count": 79,
   "metadata": {},
   "outputs": [
    {
     "name": "stdout",
     "output_type": "stream",
     "text": [
      "Por favor, cual es su animal favorito? gaticos\n",
      "Ese animal es genial, pero prefiero las tortugas\n"
     ]
    }
   ],
   "source": [
    "animal = (input('Por favor, cual es su animal favorito? ')).lower()\n",
    "\n",
    "if animal == 'tortuga':\n",
    "    print('También me gustan las tortugas')\n",
    "else :\n",
    "    print('Ese animal es genial, pero prefiero las tortugas')"
   ]
  },
  {
   "cell_type": "markdown",
   "metadata": {},
   "source": [
    "## Reto #5 - ¿Cómo está el clima?\n",
    "Crea un programa que pregunte al usuario si está lloviendo, en caso de responder “sí” pregunta si está haciendo mucho viento y si responde “sí” nuevamente muestra un mensaje indicando que hace mucho viento para salir con una sombrilla. En caso contrario, anima al usuario a que lleve una sombrilla. Para el caso de responder “no” en la primer pregunta, entonces solo desea un bonito día.\n",
    "Considera que las respuestas pueden pasarse a minúsculas para evitar posibles errores."
   ]
  },
  {
   "cell_type": "code",
   "execution_count": 83,
   "metadata": {},
   "outputs": [
    {
     "name": "stdout",
     "output_type": "stream",
     "text": [
      "Hola, ¿esta lloviendo en estos momentos? Si/No s\n",
      "¿Hay mucho viento en estos momentos? Si/No n\n",
      "Deberias llevar una sombrilla!\n"
     ]
    }
   ],
   "source": [
    "lluvia = (input('Hola, ¿esta lloviendo en estos momentos? Si/No ')).lower()\n",
    "\n",
    "if lluvia == 'si' or lluvia == 's' :\n",
    "    viento = (input('¿Hay mucho viento en estos momentos? Si/No ')).lower()\n",
    "    \n",
    "    if viento == 'si' or viento == 's' :\n",
    "        print ('hace mucho viento para salir con una sombrilla!')\n",
    "    elif viento == 'no' or viento == 'n' :\n",
    "         print ('Deberias llevar una sombrilla!')\n",
    "\n",
    "elif lluvia == 'no' or lluvia == 'n' :\n",
    "    print ('Que bien! Que tengas un bonito día!')\n",
    "\n",
    "        \n",
    "    "
   ]
  },
  {
   "cell_type": "code",
   "execution_count": null,
   "metadata": {},
   "outputs": [],
   "source": []
  }
 ],
 "metadata": {
  "kernelspec": {
   "display_name": "Python 3",
   "language": "python",
   "name": "python3"
  },
  "language_info": {
   "codemirror_mode": {
    "name": "ipython",
    "version": 3
   },
   "file_extension": ".py",
   "mimetype": "text/x-python",
   "name": "python",
   "nbconvert_exporter": "python",
   "pygments_lexer": "ipython3",
   "version": "3.7.7"
  }
 },
 "nbformat": 4,
 "nbformat_minor": 4
}
