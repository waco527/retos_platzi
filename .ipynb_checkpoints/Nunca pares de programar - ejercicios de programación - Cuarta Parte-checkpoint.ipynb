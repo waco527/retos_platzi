{
 "cells": [
  {
   "cell_type": "markdown",
   "metadata": {},
   "source": [
    "# Retos de programación en cualquier lenguaje - Cuarto nivel: matemáticas\n",
    "\n",
    "Recuerde que para ejecutar una celda hay que oprimir shift +\n",
    "\n",
    "## Reto #1 - Multiplicar decimales\n",
    "Pide a tu usuario que ingrese 2 números con decimales (cuantos más mejor) y muestra el resultado de multiplicarlos ¿fácil, no?\n",
    "\n"
   ]
  },
  {
   "cell_type": "code",
   "execution_count": 20,
   "metadata": {},
   "outputs": [
    {
     "name": "stdout",
     "output_type": "stream",
     "text": [
      "ingrese un número con decimales, mientras más, mejor! 1\n",
      "\n",
      "ingrese otro número con decimales, mientras más, mejor! 1\n",
      "\n",
      "El resultado de multiplicar los números ingresados es: \n",
      "1.0\n",
      "\n",
      "¿Quiere intentarlo de nuevo? Si/No n\n",
      "\n",
      "Gracias por participar\n"
     ]
    }
   ],
   "source": [
    "def intentar (funcion):\n",
    "    otra_vez = (input('\\n¿Quiere intentarlo de nuevo? Si/No ')).lower()\n",
    "    if otra_vez == 'si' or otra_vez.lower() == 's' :\n",
    "        funcion()\n",
    "    elif otra_vez == 'no' or otra_vez.lower() == 'n' :\n",
    "        print('\\nGracias por participar')\n",
    "    else :\n",
    "        intentar(funcion)\n",
    "\n",
    "def multiplica_decimales ():\n",
    "    \n",
    "    \n",
    "    try :\n",
    "        num1 = float(input('ingrese un número con decimales, mientras más, mejor! '))\n",
    "        num2 = float(input('\\ningrese otro número con decimales, mientras más, mejor! '))\n",
    "    except ValueError :\n",
    "        print('Ingrese un número valido')\n",
    "    resultado = num1*num2\n",
    "    \n",
    "    print (f'\\nEl resultado de multiplicar los números ingresados es: \\n{resultado}')\n",
    "    \n",
    "    intentar(multiplica_decimales)\n",
    "multiplica_decimales()\n",
    "\n"
   ]
  },
  {
   "cell_type": "markdown",
   "metadata": {},
   "source": [
    "## Reto #2 - Reducir los decimales\n",
    "Toma como base el reto anterior, pero ajústalo para que el resultado muestre solamente 1, 2, 3 o 4 decimales."
   ]
  },
  {
   "cell_type": "code",
   "execution_count": 22,
   "metadata": {},
   "outputs": [
    {
     "name": "stdout",
     "output_type": "stream",
     "text": [
      "ingrese un número con decimales, mientras más, mejor! 14.2222\n",
      "\n",
      "ingrese otro número con decimales, mientras más, mejor! 15\n",
      "¿Con cuantos decimales quiere el resultado?2\n",
      "\n",
      "El resultado de multiplicar los números ingresados es: \n",
      "213.33\n",
      "\n",
      "¿Quiere intentarlo de nuevo? Si/No n\n",
      "\n",
      "Gracias por participar\n"
     ]
    }
   ],
   "source": [
    "def reducir ():\n",
    "   \n",
    "    try :\n",
    "        num1 = float(input('ingrese un número con decimales, mientras más, mejor! '))\n",
    "        num2 = float(input('\\ningrese otro número con decimales, mientras más, mejor! '))\n",
    "        decimales = int(input('¿Con cuantos decimales quiere el resultado?'))\n",
    "    except ValueError :\n",
    "        print('Ingrese un número valido')\n",
    "    resultado = round(num1*num2,decimales)\n",
    "    \n",
    "    print (f'\\nEl resultado de multiplicar los números ingresados es: \\n{resultado}')\n",
    "    \n",
    "    intentar(reducir)\n",
    "reducir()"
   ]
  },
  {
   "cell_type": "markdown",
   "metadata": {},
   "source": [
    "## Reto #3 - Raíces cuadradas redondeadas\n",
    "Pide a tu usuario que ingrese un número, cuyo valor debe ser mayor a 20, luego calcula su raíz cuadrada y reduce a 2 o 3 decimales el resultado final."
   ]
  },
  {
   "cell_type": "code",
   "execution_count": 29,
   "metadata": {},
   "outputs": [
    {
     "name": "stdout",
     "output_type": "stream",
     "text": [
      "ingrese un número mayor de 20 para calcular su raiz cuadrada! 555\n",
      "¿Con cuantos decimales quiere el resultado? 4\n",
      "El resultado es 23.5584\n",
      "\n",
      "¿Quiere intentarlo de nuevo? Si/No n\n",
      "\n",
      "Gracias por participar\n"
     ]
    }
   ],
   "source": [
    "def raiz () :\n",
    "    try :\n",
    "        num1 = float(input('ingrese un número mayor de 20 para calcular su raiz cuadrada! '))\n",
    "\n",
    "        decimales = int(input('¿Con cuantos decimales quiere el resultado? '))\n",
    "    except ValueError :\n",
    "        print('Ingrese un número valido')\n",
    "    resultado = round(num1**0.5,decimales)\n",
    "        \n",
    "    print(f'El resultado es {resultado}')\n",
    "    intentar(raiz)\n",
    "raiz()"
   ]
  },
  {
   "cell_type": "markdown",
   "metadata": {},
   "source": [
    "## Reto #4 - Calcular área de un círculo\n",
    "Solicita a tu usuario que ingrese un número el cual será el radio de un círculo y con este dato calcula el área de un círculo.\n",
    "Si tu lenguaje cuenta con librerías específicas para este propósito haz uso de las mismas.\n",
    "\n"
   ]
  },
  {
   "cell_type": "code",
   "execution_count": 30,
   "metadata": {},
   "outputs": [
    {
     "name": "stdout",
     "output_type": "stream",
     "text": [
      "ingrese un número, el cual será el radui de un circulo34\n",
      "¿Con cuantos decimales quiere el resultado? 3\n",
      "El área del circulo con radio 34.0 cm es igual a 3631.681 cm^2\n",
      "\n",
      "¿Quiere intentarlo de nuevo? Si/No s\n",
      "ingrese un número, el cual será el radui de un circulo1\n",
      "¿Con cuantos decimales quiere el resultado? 1\n",
      "El área del circulo con radio 1.0 cm es igual a 3.1 cm^2\n",
      "\n",
      "¿Quiere intentarlo de nuevo? Si/No n\n",
      "\n",
      "Gracias por participar\n"
     ]
    }
   ],
   "source": [
    "\n",
    "def circulo_area () :\n",
    "    import math\n",
    "    try :\n",
    "        num1 = float(input('ingrese un número, el cual será el radui de un circulo'))\n",
    "\n",
    "        decimales = int(input('¿Con cuantos decimales quiere el resultado? '))\n",
    "    except ValueError :\n",
    "        print('Ingrese un número valido')\n",
    "    resultado = round(math.pi*num1**2,decimales)\n",
    "        \n",
    "    print(f'El área del circulo con radio {num1} cm es igual a {resultado} cm^2')\n",
    "    intentar(circulo_area)\n",
    "circulo_area()"
   ]
  },
  {
   "cell_type": "markdown",
   "metadata": {},
   "source": [
    "## Reto #5 - Calcular volumen de un cilindro\n",
    "Pide a tu usuario que indique el radio y la profundidad de un cilindro. Después aplica la fórmula correspondiente para calcular el volumen del cilindro y reduce el resultado a un solo decimal.\n",
    "\n"
   ]
  },
  {
   "cell_type": "code",
   "execution_count": 31,
   "metadata": {},
   "outputs": [
    {
     "name": "stdout",
     "output_type": "stream",
     "text": [
      "ingrese un número, el cual será el radio de un cilindro77\n",
      "ingrese un número, el cual será la altura del cilindro5\n",
      "¿Con cuantos decimales quiere el resultado? 2\n",
      "El volumen del cilindro con radio 77.0 cm y altura de 5.0 cm es igual a 93132.51 cm^3\n",
      "\n",
      "¿Quiere intentarlo de nuevo? Si/No n\n",
      "\n",
      "Gracias por participar\n"
     ]
    }
   ],
   "source": [
    "def cilindro_volumen() :\n",
    "    import math\n",
    "    try :\n",
    "        num1 = float(input('ingrese un número, el cual será el radio de un cilindro'))\n",
    "        num2 = float(input('ingrese un número, el cual será la altura del cilindro'))\n",
    "\n",
    "        decimales = int(input('¿Con cuantos decimales quiere el resultado? '))\n",
    "    except ValueError :\n",
    "        print('Ingrese un número valido')\n",
    "    resultado = round(num2*math.pi*num1**2,decimales)\n",
    "        \n",
    "    print(f'El volumen del cilindro con radio {num1} cm y altura de {num2} cm es igual a {resultado} cm^3')\n",
    "    intentar(cilindro_volumen)\n",
    "cilindro_volumen()"
   ]
  },
  {
   "cell_type": "markdown",
   "metadata": {},
   "source": [
    "## Reto #6 - Mostrar enteros y residuos\n",
    "Pide al usuario que ingrese 2 números, divídelos, muestra un resultado como enteros y además el residuo por separado de una forma que seal fácil de entender al usuario.\n",
    "Por ejemplo: “9 dividido entre 2 es 4 y sobra 1”."
   ]
  },
  {
   "cell_type": "code",
   "execution_count": 38,
   "metadata": {},
   "outputs": [
    {
     "name": "stdout",
     "output_type": "stream",
     "text": [
      "Por favor, ingrese un número entero 14\n",
      "\n",
      "Por favor, ingrese otro número entero17\n",
      "el segundo numero debe ser menor que el primero\n",
      "\n",
      "¿Quiere intentarlo de nuevo? Si/No s\n",
      "Por favor, ingrese un número entero 17\n",
      "\n",
      "Por favor, ingrese otro número entero1\n",
      "\n",
      "El resultado de dividir 17 entre 1 es igual a 17 y sobra 0\n",
      "\n",
      "\n",
      "¿Quiere intentarlo de nuevo? Si/No s\n",
      "Por favor, ingrese un número entero 17\n",
      "\n",
      "Por favor, ingrese otro número entero0\n",
      "el segundo número no debe ser cero\n",
      "\n",
      "¿Quiere intentarlo de nuevo? Si/No s\n",
      "Por favor, ingrese un número entero 47.5\n",
      "Ingrese un número valido\n",
      "\n",
      "¿Quiere intentarlo de nuevo? Si/No s\n",
      "Por favor, ingrese un número entero 77\n",
      "\n",
      "Por favor, ingrese otro número entero72\n",
      "\n",
      "El resultado de dividir 77 entre 72 es igual a 1 y sobra 5\n",
      "\n",
      "\n",
      "¿Quiere intentarlo de nuevo? Si/No n\n",
      "\n",
      "Gracias por participar\n"
     ]
    }
   ],
   "source": [
    "def entero_residuo ():\n",
    "   \n",
    "    try :\n",
    "        num1 = int(input('Por favor, ingrese un número entero '))\n",
    "        num2 = int(input('\\nPor favor, ingrese otro número entero'))\n",
    "        #decimales = int(input('¿Con cuantos decimales quiere el resultado?'))\n",
    "        if num2 > num1 :\n",
    "            print('el segundo numero debe ser menor que el primero')\n",
    "        \n",
    "        else :\n",
    "            entero, residuo  = divmod(num1,num2)\n",
    "            print (f'\\nEl resultado de dividir {num1} entre {num2} es igual a {entero} y sobra {residuo}\\n')\n",
    "    \n",
    "    except ValueError :\n",
    "        print('Ingrese un número valido')\n",
    "    except ZeroDivisionError :\n",
    "        print('el segundo número no debe ser cero')\n",
    "        \n",
    "    \n",
    "    intentar(entero_residuo)\n",
    "entero_residuo()"
   ]
  },
  {
   "cell_type": "markdown",
   "metadata": {},
   "source": [
    "## Reto #7 - Calcular perímetros y áreas\n",
    "Muestra un menú con distintas figuras geométricas, por lo menos 3 diferentes (triángulo, cuadrado, pentágono, etc.)\n",
    "Tu usuario debe poder elegir alguna de estas figuras, indicar la distancia de sus lados y mostrar como resultado tanto el perímetro como el área de dicha figura."
   ]
  },
  {
   "cell_type": "code",
   "execution_count": 144,
   "metadata": {},
   "outputs": [
    {
     "name": "stdout",
     "output_type": "stream",
     "text": [
      "Vamos a calcular perímetros y áreas de figuras geometricas\n",
      "Escoga una de las figuras de la siguiente lista\n",
      "\n",
      "Oprima 1 para escoger triangulo \n",
      "Oprima 2 para escoger cuadrado \n",
      "Oprima 3 para escoger pentagono \n",
      "Oprima 4 para escoger hexagono \n",
      "Oprima 5 para escoger otro poligono \n",
      "4\n",
      "¿Cuantos centimetros mide cada lado? 4\n",
      "el perimetro del hexagono es de 24.0 cm y su area es de 41.57 cm^2\n",
      "\n",
      "¿Quiere intentarlo de nuevo? Si/No n\n",
      "\n",
      "Gracias por participar\n"
     ]
    }
   ],
   "source": [
    "import math\n",
    "\n",
    "figuras ={\n",
    "        1:'triangulo',\n",
    "        2:'cuadrado',\n",
    "        3: 'pentagono',\n",
    "        4: 'hexagono',\n",
    "        5:'otro poligono'\n",
    "        }\n",
    "print('Vamos a calcular perímetros y áreas de figuras geometricas\\nEscoga una de las figuras de la siguiente lista\\n')\n",
    "\n",
    "def mostrar():\n",
    "    for opción, figura in figuras.items():\n",
    "        \n",
    "        print(f'Oprima {opción} para escoger {figura} ')\n",
    "    try:\n",
    "        lados = int(input(''))   \n",
    "        if lados > 5 or lados <1 :\n",
    "            print('debe escoger una opcion valida')\n",
    "        elif pregunta == 5 :\n",
    "            lados = int(input('¿de cuantos lados es el poligono? '))-2\n",
    "        else :  \n",
    "            try :\n",
    "                longitud_lado = float(input('¿Cuantos centimetros mide cada lado? '))\n",
    "                \n",
    "                if longitud_lado < 0 :\n",
    "                    print('la longitud del lado debe ser positiva')\n",
    "                else :    \n",
    "                    perimetro = (lados+2)*longitud_lado\n",
    "                    angulo = math.radians(360/(lados+2))\n",
    "                    apotema = 0.5*longitud_lado/math.tan(angulo/2)\n",
    "                    area = round(perimetro*apotema/2,2)\n",
    "                    print (f'el perimetro del {figuras.get(lados)} es de {perimetro} cm y su area es de {area} cm^2')\n",
    "\n",
    "            except ValueError :\n",
    "                print('debe escribir un número')\n",
    "        \n",
    "    except ValueError :\n",
    "        print('debe escribir un número')\n",
    "    \n",
    "   \n",
    "    \n",
    "        \n",
    "    intentar(mostrar)\n",
    "    \n",
    "    \n",
    "mostrar()\n",
    "\n"
   ]
  }
 ],
 "metadata": {
  "kernelspec": {
   "display_name": "Python 3",
   "language": "python",
   "name": "python3"
  },
  "language_info": {
   "codemirror_mode": {
    "name": "ipython",
    "version": 3
   },
   "file_extension": ".py",
   "mimetype": "text/x-python",
   "name": "python",
   "nbconvert_exporter": "python",
   "pygments_lexer": "ipython3",
   "version": "3.7.7"
  }
 },
 "nbformat": 4,
 "nbformat_minor": 4
}
