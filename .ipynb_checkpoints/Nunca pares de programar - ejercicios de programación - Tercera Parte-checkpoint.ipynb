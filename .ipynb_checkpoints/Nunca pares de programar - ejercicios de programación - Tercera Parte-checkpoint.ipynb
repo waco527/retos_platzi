{
 "cells": [
  {
   "cell_type": "markdown",
   "metadata": {},
   "source": [
    "# Retos de programación para cualquier lenguaje - Tercer nivel: strings\n",
    "\n",
    "Recuerde que para ejecutar una celda hay que oprimir shift +\n",
    "\n",
    "## Reto #1 Longitud del string\n",
    "Pide a tu usuario que ingrese el nombre de su curso favorito, obtén la longitud de ese string y muéstralo en pantalla."
   ]
  },
  {
   "cell_type": "code",
   "execution_count": 4,
   "metadata": {},
   "outputs": [
    {
     "name": "stdout",
     "output_type": "stream",
     "text": [
      "¿Cual es el nombre de tu curso favorito de Platzi? Curso de Introducción a la Terminal y Línea de Comandos\n",
      "\n",
      "El curso Curso de Introducción a la Terminal y Línea de Comandos tiene una longitud de 55 caracteres\n"
     ]
    }
   ],
   "source": [
    "curso = input('¿Cual es el nombre de tu curso favorito de Platzi? ')\n",
    "\n",
    "print(f'\\nEl curso {curso} tiene una longitud de {len(curso)} caracteres')"
   ]
  },
  {
   "cell_type": "markdown",
   "metadata": {},
   "source": [
    "## Reto #2 ‘Suma’ de strings\n",
    "Crea un programa en el que le pidas en 3 variables distintas: nombre, apellido y comida favorita. Como salida mostrarás el mensaje Hola, mi nombres es {nombre} {apellido} y mi comida favorita es {comida} en un solo string."
   ]
  },
  {
   "cell_type": "code",
   "execution_count": 12,
   "metadata": {},
   "outputs": [
    {
     "name": "stdout",
     "output_type": "stream",
     "text": [
      "Por favor introduzca su nombre\n",
      "fr\n",
      "Por favor introduzca su apellido\n",
      "s\n",
      "Por favor introduzca su comida favorita\n",
      "3\n",
      "\n",
      "Verifique que este usando palabras y no un número\n",
      "\n",
      "¿Quiere intentarlo de nuevo? Si/No n\n",
      "\n",
      "Gracias por participar\n"
     ]
    }
   ],
   "source": [
    "def intentar (funcion):\n",
    "    otra_vez = (input('\\n¿Quiere intentarlo de nuevo? Si/No ')).lower()\n",
    "    if otra_vez == 'si' or otra_vez.lower() == 's' :\n",
    "        funcion()\n",
    "    elif otra_vez == 'no' or otra_vez.lower() == 'n' :\n",
    "        print('\\nGracias por participar')\n",
    "    else :\n",
    "        intentar(funcion)\n",
    "\n",
    "def suma_strings () :\n",
    "    nombre = (input(\"Por favor introduzca su nombre\\n\"))\n",
    "    apellido = (input(\"Por favor introduzca su apellido\\n\"))\n",
    "    comida = (input(\"Por favor introduzca su comida favorita\\n\"))\n",
    "    if nombre != str or apellido != str or comida != str :    \n",
    "        print(f'\\nVerifique que este usando palabras y no un número')\n",
    "    else :\n",
    "        \n",
    "        print (f'Hola, mi nombres es {nombre} {apellido} y mi comida favorita se llama {comida}')\n",
    "        \n",
    "    intentar(suma_strings)\n",
    "suma_strings()"
   ]
  },
  {
   "cell_type": "markdown",
   "metadata": {},
   "source": [
    "## Reto #3 Ajusta las iniciales\n",
    "Ahora, pedirás a tu usuario que ingrese su nombre, apellido y país de origen en minúsculas. Después mostrarás los datos de salida con mayúscula inicial al tratarse de nombres propios."
   ]
  },
  {
   "cell_type": "code",
   "execution_count": 20,
   "metadata": {},
   "outputs": [
    {
     "name": "stdout",
     "output_type": "stream",
     "text": [
      "Por favor introduzca, en minusculas, su nombre\n",
      "William\n",
      "Por favor introduzca, en minusculas, su apellido\n",
      "Chamorro\n",
      "Por favor introduzca, en minusculas, su pais de orígen\n",
      "f\n",
      "Hola, mi nombres es William Chamorro y mi pais es F\n",
      "\n",
      "¿Quiere intentarlo de nuevo? Si/No s\n",
      "Por favor introduzca, en minusculas, su nombre\n",
      "william\n",
      "Por favor introduzca, en minusculas, su apellido\n",
      "chamorro\n",
      "Por favor introduzca, en minusculas, su pais de orígen\n",
      "colombia\n",
      "Hola, mi nombres es William Chamorro y mi pais es Colombia\n",
      "\n",
      "¿Quiere intentarlo de nuevo? Si/No n\n",
      "\n",
      "Gracias por participar\n"
     ]
    }
   ],
   "source": [
    "def ajusta_iniciales () :\n",
    "    \n",
    "    nombre = (input(\"Por favor introduzca, en minusculas, su nombre\\n\"))\n",
    "    apellido = (input(\"Por favor introduzca, en minusculas, su apellido\\n\"))\n",
    "    pais = (input(\"Por favor introduzca, en minusculas, su pais de orígen\\n\"))\n",
    "\n",
    "    if type(nombre) != str or type(apellido) != str or type(pais) != str :    \n",
    "        print(f'\\nVerifique que este usando palabras y no un número')\n",
    "    else :\n",
    "        print (f'Hola, mi nombres es {nombre.capitalize()} {apellido.capitalize()} y mi pais es {pais.capitalize()}')\n",
    "        \n",
    "    intentar(ajusta_iniciales)\n",
    "ajusta_iniciales()\n"
   ]
  },
  {
   "cell_type": "markdown",
   "metadata": {},
   "source": [
    "## Reto #4 String fragmentado\n",
    "Pongámonos más exigentes 💥\n",
    "Solicita a tu usuario que indique una oración de 10 o más caracteres, la línea de un poema o canción funcioona excelente. Calcula la longitud del string, pide un número de rango inicial y final que esté entre la longitud del string para al final mostrar el fragmento que incluya los caracteres en ese intervalo."
   ]
  },
  {
   "cell_type": "code",
   "execution_count": 35,
   "metadata": {},
   "outputs": [
    {
     "name": "stdout",
     "output_type": "stream",
     "text": [
      "Por favor introduzca ua de estas frases: \n",
      "\tUna oración de más de 10 caracteres.\n",
      " \tUna linea de un poema\n",
      " \tUnalinea de una canción\n",
      "if inicial > final :         print('El rango inicial debe ser menor al rango final')          else :         print(f'El fragmento elegido es: {frase[inicial:final]}')     \n",
      "\n",
      "La frase tiene una longitud de 171 caracteres\n",
      "\n",
      "Por favor introduzca un rango inicial entre 0 y 171 \n",
      "-10\n",
      "Por favor introduzca un rango final entre 0 y 171\n",
      "400\n",
      "El rango inicial esta fuera del rango\n",
      "El rango final esta fuera del rango\n",
      "\n",
      "¿Quiere intentarlo de nuevo? Si/No s\n",
      "Por favor introduzca ua de estas frases: \n",
      "\tUna oración de más de 10 caracteres.\n",
      " \tUna linea de un poema\n",
      " \tUnalinea de una canción\n",
      "if inicial > final :         print('El rango inicial debe ser menor al rango final')          else :         print(f'El fragmento elegido es: {frase[inicial:final]}')     \n",
      "\n",
      "La frase tiene una longitud de 171 caracteres\n",
      "\n",
      "Por favor introduzca un rango inicial entre 0 y 171 \n",
      "10\n",
      "Por favor introduzca un rango final entre 0 y 171\n",
      "400\n",
      "El rango final esta fuera del rango\n",
      "\n",
      "¿Quiere intentarlo de nuevo? Si/No s\n",
      "Por favor introduzca ua de estas frases: \n",
      "\tUna oración de más de 10 caracteres.\n",
      " \tUna linea de un poema\n",
      " \tUnalinea de una canción\n",
      "if inicial > final :         print('El rango inicial debe ser menor al rango final')          else :         print(f'El fragmento elegido es: {frase[inicial:final]}')     \n",
      "\n",
      "La frase tiene una longitud de 171 caracteres\n",
      "\n",
      "Por favor introduzca un rango inicial entre 0 y 171 \n",
      "10\n",
      "Por favor introduzca un rango final entre 0 y 171\n",
      "2\n",
      "El rango inicial debe ser menor al rango final\n",
      "\n",
      "¿Quiere intentarlo de nuevo? Si/No s\n",
      "Por favor introduzca ua de estas frases: \n",
      "\tUna oración de más de 10 caracteres.\n",
      " \tUna linea de un poema\n",
      " \tUnalinea de una canción\n",
      "10\n",
      "\n",
      "La frase tiene una longitud de 2 caracteres\n",
      "\n",
      "Por favor introduzca un rango inicial entre 0 y 2 \n",
      "180+\n",
      "ingrese un valor valido\n",
      "\n",
      "¿Quiere intentarlo de nuevo? Si/No s\n",
      "Por favor introduzca ua de estas frases: \n",
      "\tUna oración de más de 10 caracteres.\n",
      " \tUna linea de un poema\n",
      " \tUnalinea de una canción\n",
      "if inicial > final :         print('El rango inicial debe ser menor al rango final')          else :         print(f'El fragmento elegido es: {frase[inicial:final]}')     \n",
      "\n",
      "La frase tiene una longitud de 171 caracteres\n",
      "\n",
      "Por favor introduzca un rango inicial entre 0 y 171 \n",
      "10\n",
      "Por favor introduzca un rango final entre 0 y 171\n",
      "100\n",
      "El fragmento elegido es:  > final :         print('El rango inicial debe ser menor al rango final')          else :\n",
      "\n",
      "¿Quiere intentarlo de nuevo? Si/No n\n",
      "\n",
      "Gracias por participar\n"
     ]
    }
   ],
   "source": [
    "def string_fragmentado () :\n",
    "    \n",
    "    frase = (input(\"Por favor introduzca ua de estas frases: \\n\\tUna oración de más de 10 caracteres.\\n \\tUna linea de un poema\\n \\tUnalinea de una canción\\n\"))\n",
    "    print(f'\\nLa frase tiene una longitud de {len(frase)} caracteres\\n')\n",
    "    \n",
    "    try:\n",
    "        inicial = int(input(f\"Por favor introduzca un rango inicial entre 0 y {len(frase)} \\n\"))\n",
    "        final = int(input(f\"Por favor introduzca un rango final entre 0 y {len(frase)}\\n\"))\n",
    "        \n",
    "        if inicial > len(frase) or inicial < 0 :\n",
    "            print('El rango inicial esta fuera del rango')\n",
    "        if final > len(frase) or final < 0 :\n",
    "            print('El rango final esta fuera del rango')\n",
    "        elif inicial > final :\n",
    "            print('El rango inicial debe ser menor al rango final')    \n",
    "        else :\n",
    "            print(f'El fragmento elegido es: {frase[inicial:final]}')\n",
    "            \n",
    "    except ValueError :\n",
    "        print('ingrese un valor valido')    \n",
    "       \n",
    "    intentar(string_fragmentado)\n",
    "string_fragmentado()"
   ]
  },
  {
   "cell_type": "markdown",
   "metadata": {},
   "source": [
    "## Reto #5 Mayúsculas y minúsculas\n",
    "Solicita a tu usuario que indique 2 palabras, donde al mostrarlas en pantalla una estará totalmente en mayúsculas y otra en minúsculas ¿fácil, no?"
   ]
  },
  {
   "cell_type": "code",
   "execution_count": 36,
   "metadata": {},
   "outputs": [
    {
     "name": "stdout",
     "output_type": "stream",
     "text": [
      "\n",
      "Por favor introduzca una palabra\n",
      "pgregerg\n",
      "\n",
      "Por favor introduzca otra palabra\n",
      "sfrgetheth\n",
      "\n",
      "La primera palabra, PGREGERG, se muestra en mayusculas, la segunda palabra, sfrgetheth, se muestra en minusculas\n",
      "\n",
      "\n",
      "¿Quiere intentarlo de nuevo? Si/No s\n",
      "\n",
      "Por favor introduzca una palabra\n",
      "ferergergerg\n",
      "\n",
      "Por favor introduzca otra palabra\n",
      "EGRGERGERGERGG\n",
      "\n",
      "La primera palabra, FERERGERGERG, se muestra en mayusculas, la segunda palabra, egrgergergergg, se muestra en minusculas\n",
      "\n",
      "\n",
      "¿Quiere intentarlo de nuevo? Si/No n\n",
      "\n",
      "Gracias por participar\n"
     ]
    }
   ],
   "source": [
    "def mayusculas_minusculas () :\n",
    "    \n",
    "    palabra1 = (input(\"\\nPor favor introduzca una palabra\\n\"))\n",
    "    palabra2 = (input(\"\\nPor favor introduzca otra palabra\\n\"))\n",
    "    \n",
    "    print(f'\\nLa primera palabra, {palabra1.upper()}, se muestra en mayusculas, la segunda palabra, {palabra2.lower()}, se muestra en minusculas\\n')\n",
    "           \n",
    "    intentar(mayusculas_minusculas)\n",
    "mayusculas_minusculas()"
   ]
  },
  {
   "cell_type": "markdown",
   "metadata": {},
   "source": [
    "## Reto #6 Nombres cortos y largos\n",
    "Ya sabemos trabajar con nombres ¿pero qué pasa si cumple ciertas cualidades?\n",
    "Tu usuario ingresará su nombre, si tiene una longitud mayor a 5 caracteres mostrarás un saludo con su nombre en pantalla. Si tiene menos de 5 caracteres, pedirás su apellido, mostrarás el saludo con nombre y apellido. En ambos casos deberás mostrarlos con mayúscula inicial.\n",
    "\n"
   ]
  },
  {
   "cell_type": "code",
   "execution_count": 40,
   "metadata": {},
   "outputs": [
    {
     "name": "stdout",
     "output_type": "stream",
     "text": [
      "Por favor introduzca su nombre\n",
      "hugon\n",
      "Hola Hugon\n",
      "\n",
      "¿Quiere intentarlo de nuevo? Si/No n\n",
      "\n",
      "Gracias por participar\n"
     ]
    }
   ],
   "source": [
    "def cortos_largos () :\n",
    "    \n",
    "    nombre = (input(\"Por favor introduzca su nombre\\n\"))\n",
    "    if len(nombre) > 4 :\n",
    "        print(f'Hola {nombre.capitalize()}')\n",
    "    else :\n",
    "        \n",
    "        apellido = (input(\"Por favor introduzca su apellido\\n\"))\n",
    "        print(f'Hola {nombre.capitalize()} {apellido.capitalize()}\\n')\n",
    "\n",
    "    \n",
    "    intentar(cortos_largos)\n",
    "cortos_largos()"
   ]
  },
  {
   "cell_type": "markdown",
   "metadata": {},
   "source": [
    "## Reto #7 ¡Hablemos Pig Latin! (Puerco Latino) 🐷\n",
    "Solo una cosa, pide a tu usuario que ingrese una palabra y tradúcela a Pig Latin.\n",
    "\n",
    "Espera ¡¿qué?!\n",
    "PuercoLatino es como el idioma de la “efe”, donde cambiamos las palabras bajo ciertas condiciones. En este caso será así:\n",
    "\n",
    "La primer consonante de una palabra se pasa al final y se agrega la sílaba “ay”.\n",
    "Si una palabra inicia con vocal, se agrega “way” al final.\n",
    "Ejemplos:<br>\n",
    "\n",
    "Platzi 👉 Latzipay<br>\n",
    "Abeja 👉 Abejaway<br>"
   ]
  },
  {
   "cell_type": "code",
   "execution_count": 82,
   "metadata": {},
   "outputs": [
    {
     "name": "stdout",
     "output_type": "stream",
     "text": [
      "Ingrese una palabra Abeja\n",
      "Abejaway\n",
      "\n",
      "¿Quiere intentarlo de nuevo? Si/No s\n",
      "Ingrese una palabra Platzi\n",
      "latzipay\n",
      "\n",
      "¿Quiere intentarlo de nuevo? Si/No s\n",
      "Ingrese una palabra Bogotá\n",
      "ogotábay\n",
      "\n",
      "¿Quiere intentarlo de nuevo? Si/No s\n",
      "Ingrese una palabra Ovejita\n",
      "Ovejitaway\n",
      "\n",
      "¿Quiere intentarlo de nuevo? Si/No n\n",
      "\n",
      "Gracias por participar\n"
     ]
    }
   ],
   "source": [
    "def reto7 () :\n",
    "    palabra =input('Ingrese una palabra ')\n",
    "    vocals =['i', 'e', 'a', 'o', 'u']\n",
    "\n",
    "    if  palabra[0].lower() in vocals :\n",
    "        palabra = palabra + \"way\"   \n",
    "    else :\n",
    "        palabra = palabra[1:] +palabra[0].lower() + 'ay'\n",
    "\n",
    "    print(palabra)\n",
    "    \n",
    "    intentar(reto7)\n",
    "reto7()\n",
    "    "
   ]
  },
  {
   "cell_type": "code",
   "execution_count": null,
   "metadata": {},
   "outputs": [],
   "source": []
  }
 ],
 "metadata": {
  "kernelspec": {
   "display_name": "Python 3",
   "language": "python",
   "name": "python3"
  },
  "language_info": {
   "codemirror_mode": {
    "name": "ipython",
    "version": 3
   },
   "file_extension": ".py",
   "mimetype": "text/x-python",
   "name": "python",
   "nbconvert_exporter": "python",
   "pygments_lexer": "ipython3",
   "version": "3.7.7"
  }
 },
 "nbformat": 4,
 "nbformat_minor": 4
}
