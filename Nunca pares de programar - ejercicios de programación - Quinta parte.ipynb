{
 "cells": [
  {
   "cell_type": "markdown",
   "metadata": {},
   "source": [
    "# Retos de programación en cualquier lenguaje - Quinto nivel: ciclo 'for'\n",
    "\n",
    "Recuerde que para ejecutar una celda hay que oprimir shift +\n",
    "\n",
    "## Reto #1 - Curso favorito\n",
    "Pide a tu usuario que indique cual es su curso favorito de Platzi e imprímelo en pantalla 8 veces.\n",
    "¿Por qué 8 veces? Porque este año Platzi cumplió 8 años 😉\n"
   ]
  },
  {
   "cell_type": "code",
   "execution_count": 15,
   "metadata": {},
   "outputs": [],
   "source": [
    "def intentar (funcion):\n",
    "    otra_vez = (input('\\n¿Quiere intentarlo de nuevo? Si/No ')).lower()\n",
    "    if otra_vez == 'si' or otra_vez.lower() == 's' :\n",
    "        funcion()\n",
    "    elif otra_vez == 'no' or otra_vez.lower() == 'n' :\n",
    "        print('\\nGracias por participar')\n",
    "    else :\n",
    "        intentar(funcion)"
   ]
  },
  {
   "cell_type": "code",
   "execution_count": 16,
   "metadata": {},
   "outputs": [
    {
     "name": "stdout",
     "output_type": "stream",
     "text": [
      "¿Cual es su curso favorito de Platzi? reger\n",
      "\n",
      "tu curso favorito es : \n",
      "\n",
      "reger!\n",
      "\n",
      "reger!\n",
      "\n",
      "reger!\n",
      "\n",
      "reger!\n",
      "\n",
      "reger!\n",
      "\n",
      "reger!\n",
      "\n",
      "reger!\n",
      "\n",
      "reger!\n",
      "\n",
      "felicitaciones por los 8 años de Platzi\n"
     ]
    }
   ],
   "source": [
    "curso = input('¿Cual es su curso favorito de Platzi? ')\n",
    "print('\\ntu curso favorito es : \\n')\n",
    "for i in range(8) :\n",
    "    print (curso+'!\\n')\n",
    "print('felicitaciones por los 8 años de Platzi')"
   ]
  },
  {
   "cell_type": "markdown",
   "metadata": {},
   "source": [
    "## Reto #2 - Curso favorito ‘n’ veces\n",
    "Toma el reto anterior, pero ahora pregunta al usuario cuantas veces quiere mostrar el mensaje.\n",
    "¿Qué pasa si coloca cero como respuesta? 🤔"
   ]
  },
  {
   "cell_type": "code",
   "execution_count": 24,
   "metadata": {},
   "outputs": [
    {
     "name": "stdout",
     "output_type": "stream",
     "text": [
      "¿Cual es su curso favorito de Platzi? gerger\n",
      "\n",
      "¿Cuantas veces quiere repoetir el mensaje? 5\n",
      "\n",
      "tu curso favorito es : \n",
      "\n",
      "gerger!\n",
      "\n",
      "gerger!\n",
      "\n",
      "gerger!\n",
      "\n",
      "gerger!\n",
      "\n",
      "gerger!\n",
      "\n",
      "felicitaciones por los 5 años de Platzi\n",
      "\n",
      "¿Quiere intentarlo de nuevo? Si/No s\n",
      "¿Cual es su curso favorito de Platzi? gggggttttt\n",
      "\n",
      "¿Cuantas veces quiere repoetir el mensaje? tt\n",
      "\n",
      "No ingresó un número valido\n",
      "\n",
      "¿Quiere intentarlo de nuevo? Si/No s\n",
      "¿Cual es su curso favorito de Platzi? e\n",
      "\n",
      "¿Cuantas veces quiere repoetir el mensaje? 0\n",
      "\n",
      "Debe ingresar un valor mayor que cero\n",
      "\n",
      "\n",
      "¿Quiere intentarlo de nuevo? Si/No g\n",
      "\n",
      "¿Quiere intentarlo de nuevo? Si/No s\n",
      "¿Cual es su curso favorito de Platzi? gggttt\n",
      "\n",
      "¿Cuantas veces quiere repoetir el mensaje? -4\n",
      "\n",
      "Debe ingresar un valor mayor que cero\n",
      "\n",
      "\n",
      "¿Quiere intentarlo de nuevo? Si/No hhh\n",
      "\n",
      "¿Quiere intentarlo de nuevo? Si/No s\n",
      "¿Cual es su curso favorito de Platzi? ssss\n",
      "\n",
      "¿Cuantas veces quiere repoetir el mensaje? 5\n",
      "\n",
      "tu curso favorito es : \n",
      "\n",
      "ssss!\n",
      "\n",
      "ssss!\n",
      "\n",
      "ssss!\n",
      "\n",
      "ssss!\n",
      "\n",
      "ssss!\n",
      "\n",
      "felicitaciones por los 5 años de Platzi\n",
      "\n",
      "¿Quiere intentarlo de nuevo? Si/No n\n",
      "\n",
      "Gracias por participar\n"
     ]
    }
   ],
   "source": [
    "\n",
    "def curso_favorito ():\n",
    "    curso = input('¿Cual es su curso favorito de Platzi? ')\n",
    "    try :\n",
    "        veces = int(input('\\n¿Cuantas veces quiere repoetir el mensaje? '))\n",
    "        if veces < 1 :\n",
    "            print('\\nDebe ingresar un valor mayor que cero\\n')\n",
    "        else :\n",
    "            print('\\ntu curso favorito es : \\n')\n",
    "            for i in range(veces) :\n",
    "                print (curso+'!\\n')\n",
    "            print(f'felicitaciones por los {veces} años de Platzi')\n",
    "    except ValueError :\n",
    "        print('\\nNo ingresó un número valido')\n",
    "    intentar(curso_favorito)\n",
    "curso_favorito()"
   ]
  },
  {
   "cell_type": "markdown",
   "metadata": {},
   "source": [
    "## Reto #3 - Curso en una columna\n",
    "Nuevamente, pide a tu usuario que indique su curso favorito de Platzi pero ahora muestra un caracter por línea de forma que puede parecer el inicio de un acróstico."
   ]
  },
  {
   "cell_type": "code",
   "execution_count": 30,
   "metadata": {},
   "outputs": [
    {
     "name": "stdout",
     "output_type": "stream",
     "text": [
      "¿Cual es su curso favorito de Platzi? Curso en una columna\n",
      "\n",
      "tu curso favorito es : \n",
      "\n",
      "C - C - C - C - C - \n",
      "U - U - U - U - U - \n",
      "R - R - R - R - R - \n",
      "S - S - S - S - S - \n",
      "O - O - O - O - O - \n",
      "  -   -   -   -   - \n",
      "E - E - E - E - E - \n",
      "N - N - N - N - N - \n",
      "  -   -   -   -   - \n",
      "U - U - U - U - U - \n",
      "N - N - N - N - N - \n",
      "A - A - A - A - A - \n",
      "  -   -   -   -   - \n",
      "C - C - C - C - C - \n",
      "O - O - O - O - O - \n",
      "L - L - L - L - L - \n",
      "U - U - U - U - U - \n",
      "M - M - M - M - M - \n",
      "N - N - N - N - N - \n",
      "A - A - A - A - A - \n",
      "\n",
      "¿Quiere intentarlo de nuevo? Si/No s\n",
      "¿Cual es su curso favorito de Platzi? Los cursos de Coursera\n",
      "\n",
      "tu curso favorito es : \n",
      "\n",
      "L - L - L - L - L - \n",
      "O - O - O - O - O - \n",
      "S - S - S - S - S - \n",
      "  -   -   -   -   - \n",
      "C - C - C - C - C - \n",
      "U - U - U - U - U - \n",
      "R - R - R - R - R - \n",
      "S - S - S - S - S - \n",
      "O - O - O - O - O - \n",
      "S - S - S - S - S - \n",
      "  -   -   -   -   - \n",
      "D - D - D - D - D - \n",
      "E - E - E - E - E - \n",
      "  -   -   -   -   - \n",
      "C - C - C - C - C - \n",
      "O - O - O - O - O - \n",
      "U - U - U - U - U - \n",
      "R - R - R - R - R - \n",
      "S - S - S - S - S - \n",
      "E - E - E - E - E - \n",
      "R - R - R - R - R - \n",
      "A - A - A - A - A - \n",
      "\n",
      "¿Quiere intentarlo de nuevo? Si/No n\n",
      "\n",
      "Gracias por participar\n"
     ]
    }
   ],
   "source": [
    "def curso_columna ():\n",
    "    curso = input('¿Cual es su curso favorito de Platzi? ')\n",
    "    print('\\ntu curso favorito es : \\n')\n",
    "    for i in range(len(curso)) :\n",
    "        print ((curso[i].capitalize() + ' - ')*5)\n",
    "    \n",
    "    intentar(curso_columna)\n",
    "curso_columna()"
   ]
  },
  {
   "cell_type": "markdown",
   "metadata": {},
   "source": [
    "## Reto #4 - Animal en columna ‘n’ veces.\n",
    "Toma como base el reto anterior, pide a tu usuario que indique su animal favorito y después muéstralo con un caracter por línea. Esto debe repetirse un número de veces que ya hayas preguntado a tu usuario."
   ]
  },
  {
   "cell_type": "code",
   "execution_count": 41,
   "metadata": {},
   "outputs": [
    {
     "name": "stdout",
     "output_type": "stream",
     "text": [
      "¿Cual es su animal favorito? fe de\n",
      "\n",
      "¿Cuantas veces quiere repetir el mensaje? 3\n",
      "\n",
      "tu animal favorito es : \n",
      "\n",
      "\n",
      "\n",
      "F  -  F  -  F  -  \n",
      "E  -  E  -  E  -  \n",
      "   -     -     -  \n",
      "D  -  D  -  D  -  \n",
      "E  -  E  -  E  -  \n",
      "\n",
      "\n",
      "F  -  F  -  F  -  \n",
      "E  -  E  -  E  -  \n",
      "   -     -     -  \n",
      "D  -  D  -  D  -  \n",
      "E  -  E  -  E  -  \n",
      "\n",
      "\n",
      "F  -  F  -  F  -  \n",
      "E  -  E  -  E  -  \n",
      "   -     -     -  \n",
      "D  -  D  -  D  -  \n",
      "E  -  E  -  E  -  \n",
      "\n",
      "¿Quiere intentarlo de nuevo? Si/No n\n",
      "\n",
      "Gracias por participar\n"
     ]
    }
   ],
   "source": [
    "def animal_columna ():\n",
    "    animal = input('¿Cual es su animal favorito? ')\n",
    "    \n",
    "    \n",
    "    \n",
    "    try :\n",
    "        veces = int(input('\\n¿Cuantas veces quiere repetir el mensaje? '))\n",
    "        if veces < 1 :\n",
    "            print('\\nDebe ingresar un valor mayor que cero\\n')\n",
    "        else :\n",
    "            print('\\ntu animal favorito es : \\n')\n",
    "            \n",
    "            for j in range(veces) :\n",
    "                \n",
    "                print('\\n')\n",
    "                for i in range(len(animal)) :\n",
    "                    print (( animal[i].capitalize() + '  -  ')*3 )\n",
    "\n",
    "            \n",
    "    except ValueError :\n",
    "        print('\\nNo ingresó un número valido')\n",
    "    intentar(animal_columna)\n",
    "animal_columna()"
   ]
  },
  {
   "cell_type": "markdown",
   "metadata": {},
   "source": [
    "## Reto #5 - Tabla de multiplicar\n",
    "Pide a tu usuario un número, luego de ello muestra la tabla de multiplicar de ese número del 1 al 10."
   ]
  },
  {
   "cell_type": "code",
   "execution_count": 49,
   "metadata": {},
   "outputs": [
    {
     "name": "stdout",
     "output_type": "stream",
     "text": [
      "Escriba un número para mostrar su tabla de multiplicar del 1 al 10 7\n",
      "La tabla de multiplicar del número {numero} es: \n",
      "\n",
      "\t \t \t \t \t \t 7 \n",
      "\t \t \t \t \t \t 14 \n",
      "\t \t \t \t \t \t 21 \n",
      "\t \t \t \t \t \t 28 \n",
      "\t \t \t \t \t \t 35 \n",
      "\t \t \t \t \t \t 42 \n",
      "\t \t \t \t \t \t 49 \n",
      "\t \t \t \t \t \t 56 \n",
      "\t \t \t \t \t \t 63 \n",
      "\t \t \t \t \t \t 70 \n",
      "\n",
      "¿Quiere intentarlo de nuevo? Si/No n\n",
      "\n",
      "Gracias por participar\n"
     ]
    }
   ],
   "source": [
    "def tabla () :\n",
    "    try :\n",
    "        numero = int(input('Escriba un número para mostrar su tabla de multiplicar del 1 al 10 ')) \n",
    "        print('La tabla de multiplicar del número {numero} es: \\n')\n",
    "        for i in range(10) :\n",
    "            print(f'\\t \\t \\t \\t \\t \\t {numero*(i+1)} ')\n",
    "    except ValueError :\n",
    "        print ('Debe introducir un número valido')\n",
    "        \n",
    "    intentar(tabla)\n",
    "tabla()\n",
    "    "
   ]
  },
  {
   "cell_type": "markdown",
   "metadata": {},
   "source": [
    "## Reto # 6 - Cuenta regresiva\n",
    "Pide a tu usuario un número, después imprime una cuenta regresiva uno a uno, desde ese número hasta 0. Esto aplica también para números negativos."
   ]
  },
  {
   "cell_type": "code",
   "execution_count": 57,
   "metadata": {},
   "outputs": [
    {
     "name": "stdout",
     "output_type": "stream",
     "text": [
      "Escriba un número, haremos la cuenta regresiva hasta cero 10\n",
      "La cuenta comienza ahora!\n",
      "\t \t \t \t \t \t 10 \n",
      "\t \t \t \t \t \t 9 \n",
      "\t \t \t \t \t \t 8 \n",
      "\t \t \t \t \t \t 7 \n",
      "\t \t \t \t \t \t 6 \n",
      "\t \t \t \t \t \t 5 \n",
      "\t \t \t \t \t \t 4 \n",
      "\t \t \t \t \t \t 3 \n",
      "\t \t \t \t \t \t 2 \n",
      "\t \t \t \t \t \t 1 \n",
      "\t \t \t \t \t \t BOOOM!!\n",
      "\n",
      "¿Quiere intentarlo de nuevo? Si/No n\n",
      "\n",
      "Gracias por participar\n"
     ]
    }
   ],
   "source": [
    "def regresiva () :\n",
    "    try :\n",
    "        numero = int(input('Escriba un número, haremos la cuenta regresiva hasta cero ')) \n",
    "        print('La cuenta comienza ahora!')\n",
    "        for i in range( 1,numero + 1) :\n",
    "            print(f'\\t \\t \\t \\t \\t \\t {numero +1 - i} ')\n",
    "            if i == numero :\n",
    "                print('\\t \\t \\t \\t \\t \\t BOOOM!!')\n",
    "    except ValueError :\n",
    "        print ('Debe introducir un número valido')\n",
    "        \n",
    "    intentar(regresiva)\n",
    "regresiva()"
   ]
  },
  {
   "cell_type": "markdown",
   "metadata": {},
   "source": [
    "## Reto #7 - Curso favorito, sin exagerar\n",
    "Toma como base el Reto #2, pero agrega como condiciones las siguientes:\n",
    "\n",
    "Si el número ‘n’ es mayor a 15, solo imprimirás el nombre del curso 3 veces e indicarás que ‘n’ es un número muy grande."
   ]
  },
  {
   "cell_type": "code",
   "execution_count": 60,
   "metadata": {},
   "outputs": [
    {
     "name": "stdout",
     "output_type": "stream",
     "text": [
      "¿Cual es su curso favorito de Platzi? frefre\n",
      "\n",
      "¿Cuantas veces quiere repetir el mensaje? 16\n",
      "El número de veces que quier repetir el mensaje es muy grande, se repetira 3 veces\n",
      "\n",
      "tu curso favorito es : \n",
      "\n",
      "frefre!\n",
      "\n",
      "frefre!\n",
      "\n",
      "frefre!\n",
      "\n",
      "\n",
      "¿Quiere intentarlo de nuevo? Si/No s\n",
      "¿Cual es su curso favorito de Platzi? 0\n",
      "\n",
      "¿Cuantas veces quiere repetir el mensaje? 1\n",
      "\n",
      "tu curso favorito es : \n",
      "\n",
      "0!\n",
      "\n",
      "felicitaciones por los 1 años de Platzi\n",
      "\n",
      "¿Quiere intentarlo de nuevo? Si/No n\n",
      "\n",
      "Gracias por participar\n"
     ]
    }
   ],
   "source": [
    "def curso_exagera ():\n",
    "    curso = input('¿Cual es su curso favorito de Platzi? ')\n",
    "    try :\n",
    "        veces = int(input('\\n¿Cuantas veces quiere repetir el mensaje? '))\n",
    "        if veces < 1 :\n",
    "            print('\\nDebe ingresar un valor mayor que cero\\n')\n",
    "        elif veces > 15 :\n",
    "            print('El número de veces que quier repetir el mensaje es muy grande, se repetira 3 veces')\n",
    "            veces = 3\n",
    "            print('\\ntu curso favorito es : \\n')\n",
    "            for i in range(veces) :\n",
    "                print (curso+'!\\n')\n",
    "        else :\n",
    "            print('\\ntu curso favorito es : \\n')\n",
    "            for i in range(veces) :\n",
    "                print (curso+'!\\n')\n",
    "            print(f'felicitaciones por los {veces} años de Platzi')\n",
    "    except ValueError :\n",
    "        print('\\nNo ingresó un número valido')\n",
    "    intentar(curso_exagera)\n",
    "curso_exagera()"
   ]
  },
  {
   "cell_type": "markdown",
   "metadata": {},
   "source": [
    "## Reto #8 - Suma autorizada\n",
    "Crearás un programa que pedirá a tu usuario 4 números, uno por uno. Al indicarlo preguntarás al usuario si desea sumarlo al total, si la respuesta es afirmativa se sumará. Al final debes mostrar el valor de la suma de aquellos números que fueron aceptados para la suma."
   ]
  },
  {
   "cell_type": "code",
   "execution_count": 78,
   "metadata": {},
   "outputs": [
    {
     "name": "stdout",
     "output_type": "stream",
     "text": [
      "Vamos a hacer una suma de varios números \n",
      "\n",
      "introduzca un número: \n",
      "4\n",
      "¿Quiere sumar este resultado al total? Si/Nos\n",
      "introduzca un número: \n",
      "7\n",
      "¿Quiere sumar este resultado al total? Si/Nos\n",
      "introduzca un número: \n",
      "8\n",
      "¿Quiere sumar este resultado al total? Si/Nos\n",
      "introduzca un número: \n",
      "8\n",
      "¿Quiere sumar este resultado al total? Si/Nos\n",
      "El total de la suma de los numeros autiozados es 27\n",
      "\n",
      "¿Quiere intentarlo de nuevo? Si/No n\n",
      "\n",
      "Gracias por participar\n"
     ]
    }
   ],
   "source": [
    "def suma_autorizada ():\n",
    "    print('Vamos a hacer una suma de varios números \\n')\n",
    "    suma = []\n",
    "    total = 0\n",
    "    try :\n",
    "        for i in range(4) :\n",
    "            num = int(input('introduzca un número: \\n'))\n",
    "            tmp = (input('¿Quiere sumar este resultado al total? Si/No')).lower()\n",
    "            if tmp == 'si' or tmp == 's':\n",
    "                suma.append(num)\n",
    "            elif tmp == 'no' or tmp == 'n':\n",
    "                    pass\n",
    "            else :\n",
    "                print('Debe responder si o no')\n",
    "                break\n",
    "            total = sum(suma)\n",
    "           \n",
    "    except ValueError :\n",
    "        print('Debe introducir un número valido')\n",
    "    print(f'El total de la suma de los numeros autiozados es {total}') \n",
    "    intentar(suma_autorizada)\n",
    "        \n",
    "\n",
    "suma_autorizada()\n",
    "    "
   ]
  },
  {
   "cell_type": "markdown",
   "metadata": {},
   "source": [
    "## Reto #9 - Recta numérica\n",
    "Escribe un programa donde preguntes a tu usuario si desea una recta numérica positiva o negativa, después pide un número que servirá como límite e imprime todos los números de uno en uno partiendo desde el cero."
   ]
  },
  {
   "cell_type": "code",
   "execution_count": 104,
   "metadata": {},
   "outputs": [
    {
     "name": "stdout",
     "output_type": "stream",
     "text": [
      "¿Quisiera un recta positiva (P) o negativa (N)? p\n",
      "Ingrese un número que servirá como límite\n",
      "Se imprimiran todos los números de uno en uno partiendo desde cero hasta el limite \n",
      "22\n",
      "_0_1_2_3_4_5_6_7_8_9_10_11_12_13_14_15_16_17_18_19_20_21_22\n",
      "\n",
      "¿Quiere intentarlo de nuevo? Si/No s\n",
      "¿Quisiera un recta positiva (P) o negativa (N)? n\n",
      "Ingrese un número que servirá como límite\n",
      "Se imprimiran todos los números de uno en uno partiendo desde cero hasta el limite \n",
      "33\n",
      "_-33_-32_-31_-30_-29_-28_-27_-26_-25_-24_-23_-22_-21_-20_-19_-18_-17_-16_-15_-14_-13_-12_-11_-10_-9_-8_-7_-6_-5_-4_-3_-2_-1_0\n",
      "\n",
      "¿Quiere intentarlo de nuevo? Si/No n\n",
      "\n",
      "Gracias por participar\n"
     ]
    }
   ],
   "source": [
    "def recta () :\n",
    "    linea = input('¿Quisiera un recta positiva (P) o negativa (N)? ')\n",
    "    \n",
    "    try :\n",
    "        recta_numerica = ''\n",
    "        numero = int(input('Ingrese un número que servirá como límite\\nSe imprimiran todos los números de uno en uno partiendo desde cero hasta el limite \\n'))\n",
    "        if linea == 'P' or linea == 'p':\n",
    "            for i in range(numero+1):\n",
    "                tmp = str(i)\n",
    "                \n",
    "                recta_numerica =  recta_numerica + '_' + tmp\n",
    "                \n",
    "        elif linea == 'N' or linea == 'n':\n",
    "            for i in range(numero+1):\n",
    "                \n",
    "                tmp = str(-numero + i)\n",
    "                recta_numerica =  recta_numerica + '_' + tmp\n",
    "                #recta_numerica = recta_numerica.append(tmp)\n",
    "        else :    \n",
    "            print('gge')\n",
    "    except ValueError :\n",
    "        print('Ingrese un número entero')\n",
    "    print(recta_numerica)\n",
    "    intentar(recta)\n",
    "recta() "
   ]
  },
  {
   "cell_type": "code",
   "execution_count": null,
   "metadata": {},
   "outputs": [],
   "source": []
  }
 ],
 "metadata": {
  "kernelspec": {
   "display_name": "Python 3",
   "language": "python",
   "name": "python3"
  },
  "language_info": {
   "codemirror_mode": {
    "name": "ipython",
    "version": 3
   },
   "file_extension": ".py",
   "mimetype": "text/x-python",
   "name": "python",
   "nbconvert_exporter": "python",
   "pygments_lexer": "ipython3",
   "version": "3.7.7"
  }
 },
 "nbformat": 4,
 "nbformat_minor": 4
}
