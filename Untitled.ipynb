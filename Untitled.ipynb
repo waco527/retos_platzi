{
 "cells": [
  {
   "cell_type": "markdown",
   "metadata": {},
   "source": [
    "# Retos de programación en cualquier lenguaje - Primer nivel: salida de mensajes\n",
    "\n",
    "## Reto #1 “Hola Mundo”\n",
    "Instrucciones: este es un clásico de clásicos, pero haremos un pequeño cambio. En lugar de solo imprimir un mensaje en pantalla, pedirás al usuario que digite un nombre y mostrarás en pantalla lo siguiente: Hola, [nombre]"
   ]
  },
  {
   "cell_type": "code",
   "execution_count": 3,
   "metadata": {},
   "outputs": [
    {
     "name": "stdout",
     "output_type": "stream",
     "text": [
      "Escriba su nombre \n",
      "Andres\n",
      "\n",
      "Hola, Andres\n",
      "\n"
     ]
    }
   ],
   "source": [
    "nombre = input(\"Escriba su nombre \\n\")\n",
    "\n",
    "print (f'\\nHola, {nombre}\\n')"
   ]
  },
  {
   "cell_type": "markdown",
   "metadata": {},
   "source": [
    "## Reto #2 “Hola… nombre y apellido:”\n",
    "Instrucciones: Ahora que sabemos incluir nombres, podemos agregar más datos. Intentemos con un apellido para tener algo así: ``Hola, [nombre] [apellido]```"
   ]
  },
  {
   "cell_type": "code",
   "execution_count": 4,
   "metadata": {},
   "outputs": [
    {
     "name": "stdout",
     "output_type": "stream",
     "text": [
      "Escriba su nombre \n",
      "Camilo\n",
      "\n",
      "Escriba su apellido\n",
      "Gonzales\n",
      "\n",
      "Hola, Camilo Gonzales\n",
      "\n"
     ]
    }
   ],
   "source": [
    "nombre = input(\"Escriba su nombre \\n\")\n",
    "apellido = input ('\\nEscriba su apellido\\n')\n",
    "\n",
    "print (f'\\nHola, {nombre} {apellido}\\n')"
   ]
  },
  {
   "cell_type": "markdown",
   "metadata": {},
   "source": [
    "## Reto #3 “Mensaje multilínea”\n",
    "Instrucciones: seguro has visto que en Platzi hay más de 600 cursos ¿puedes mostrar a que categorías corresponden en una sola línea de código?\n",
    "Debe mostrarse así:\n",
    "\n",
    "Platzi cuenta con cursos de:<br>\n",
    "[categoría1]<br>\n",
    "[categoría2]<br>\n",
    "[categoría3]<br>\n",
    "[categoría4]<br>\n",
    "[categoría5]<br>\n",
    "[categoría6]<br>"
   ]
  },
  {
   "cell_type": "code",
   "execution_count": 27,
   "metadata": {
    "scrolled": true
   },
   "outputs": [
    {
     "name": "stdout",
     "output_type": "stream",
     "text": [
      "Platzi cuenta con cursos de: \n",
      "\n",
      "+ Desarrollo e Ingenieria\n",
      "\n",
      "+ Diseño y UX\n",
      "\n",
      "+ Marketing\n",
      "\n",
      "+ Negocios y emprendimiento\n",
      "\n",
      "+ Producción Audiovisual\n",
      "\n",
      "+ Crecimiento Profesional\n",
      "\n"
     ]
    }
   ],
   "source": [
    "platzi_categorias = ['Desarrollo e Ingenieria','Diseño y UX', 'Marketing','Negocios y emprendimiento','Producción Audiovisual','Crecimiento Profesional']\n",
    "\n",
    "print('Platzi cuenta con cursos de: \\n')\n",
    "for categoria in platzi_categorias:\n",
    "  print(f'+ {categoria}\\n')"
   ]
  },
  {
   "cell_type": "markdown",
   "metadata": {},
   "source": [
    "## Reto #4 “Suma de enteros”\n",
    "Instrucciones: otro clásico conocido, donde pedirás al usuario que ingrese 2 números y muestre en pantalla el resultado. Si quieres añadir más dificultad puedes utilizar números con punto decimal y especificar el número de decimales después del punto.\n",
    "Ejemplo: 2.5633 + 5.6883 = 8.25"
   ]
  },
  {
   "cell_type": "code",
   "execution_count": null,
   "metadata": {},
   "outputs": [],
   "source": [
    "print ('Suma de dos números')\n",
    "num_1 = float(input('Ingrese el primer numero'))\n",
    "num_2 = float(input('Ingrese el segundo numero'))\n"
   ]
  }
 ],
 "metadata": {
  "kernelspec": {
   "display_name": "Python 3",
   "language": "python",
   "name": "python3"
  },
  "language_info": {
   "codemirror_mode": {
    "name": "ipython",
    "version": 3
   },
   "file_extension": ".py",
   "mimetype": "text/x-python",
   "name": "python",
   "nbconvert_exporter": "python",
   "pygments_lexer": "ipython3",
   "version": "3.7.7"
  }
 },
 "nbformat": 4,
 "nbformat_minor": 4
}
